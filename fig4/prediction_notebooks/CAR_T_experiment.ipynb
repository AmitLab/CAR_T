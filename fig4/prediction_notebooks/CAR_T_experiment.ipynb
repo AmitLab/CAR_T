{
 "cells": [
  {
   "cell_type": "code",
   "execution_count": null,
   "id": "752a241b-3f86-4191-b2dd-90a8bdd689e3",
   "metadata": {},
   "outputs": [],
   "source": [
    "%load_ext autoreload\n",
    "%autoreload 2"
   ]
  },
  {
   "cell_type": "code",
   "execution_count": null,
   "id": "04365164-aa9f-4370-af28-404445ec9c38",
   "metadata": {},
   "outputs": [],
   "source": [
    "import sys\n",
    "from pathlib import Path\n",
    "\n",
    "import pandas as pd\n",
    "import numpy as np\n",
    "\n",
    "import matplotlib.pyplot as plt\n",
    "import plotly.express as px"
   ]
  },
  {
   "cell_type": "markdown",
   "id": "e647d259-f5a0-4444-a743-9fd6fb26f8cc",
   "metadata": {},
   "source": [
    "## configurations"
   ]
  },
  {
   "cell_type": "markdown",
   "id": "ded87ba7-aa0b-483e-80a3-904a742ee9ca",
   "metadata": {},
   "source": [
    "### general configurations"
   ]
  },
  {
   "cell_type": "code",
   "execution_count": null,
   "id": "409a1442-be55-46fa-9a6d-7d3de3f727d9",
   "metadata": {},
   "outputs": [],
   "source": [
    "repo_dir = '/home/labs/amit/noamsh/repos/CAR_T'\n",
    "data_dir_path = Path(repo_dir, \"data\")"
   ]
  },
  {
   "cell_type": "code",
   "execution_count": null,
   "id": "86719c82-b15b-4d8a-8bc8-3c41e7a707f7",
   "metadata": {},
   "outputs": [],
   "source": [
    "sys.path.append(repo_dir)"
   ]
  },
  {
   "cell_type": "markdown",
   "id": "831be107-eb70-4b97-82d1-8c7d46bf0a65",
   "metadata": {},
   "source": [
    "### experiment configuration"
   ]
  },
  {
   "cell_type": "markdown",
   "source": [
    "to reproduce paper, run this notebook 3 time, while edditing the feature selection parmeters:\n",
    "\n",
    "    1. use_cell_frequencies = True \n",
    "    2. use_TNFA_SIGNALING_VIA_NFKB_CD16_Mono = True \n",
    "    3. use_cell_frequencies = True, use_TNFA_SIGNALING_VIA_NFKB_CD16_Mono = True \n"
   ],
   "metadata": {
    "collapsed": false
   }
  },
  {
   "cell_type": "code",
   "execution_count": null,
   "id": "fe1a8f0d-4743-4e6f-98a5-a0f84912cee4",
   "metadata": {},
   "outputs": [],
   "source": [
    "# feature selection\n",
    "use_TNFA_SIGNALING_VIA_NFKB_CD16_Mono = False # will be used only is above is false\n",
    "use_cell_frequencies = True"
   ]
  },
  {
   "cell_type": "markdown",
   "id": "a51cf231-3e95-4f75-8d55-86e16c467c19",
   "metadata": {},
   "source": [
    "## data loading"
   ]
  },
  {
   "cell_type": "markdown",
   "id": "3b5f201a-02e5-4437-b5fe-59812fe805e1",
   "metadata": {},
   "source": [
    "### abundance + label"
   ]
  },
  {
   "cell_type": "code",
   "execution_count": null,
   "id": "e2a70ee1-313d-4b6d-af34-0a45ee0e6e12",
   "metadata": {},
   "outputs": [],
   "source": [
    "cell_abundance_dataset_path  = Path(data_dir_path, \"cell_type_abundance_by_sample_group_normalized.csv\")\n",
    "cell_abundance_dataset = pd.read_csv(cell_abundance_dataset_path)\n",
    "cell_abundance_dataset = cell_abundance_dataset.set_index('sample_id')\n",
    "\n",
    "y = cell_abundance_dataset['response_3m']\n",
    "cell_abandace = cell_abundance_dataset.drop(columns=['response_3m', 'LDH_prior_tx'])\n",
    "cell_abandace.index = cell_abandace.index.rename(\"patient\")\n",
    "\n",
    "print(cell_abandace.shape)\n",
    "print(cell_abandace.columns)\n",
    "\n",
    "cell_abandace.head()"
   ]
  },
  {
   "cell_type": "code",
   "execution_count": null,
   "id": "0c1147a0-41ff-4aa4-93e7-08ee3f584c51",
   "metadata": {},
   "outputs": [],
   "source": [
    "cell_group_abundance_dataset_path  = Path(data_dir_path, \"cell_group_abundance_by_sample.csv\")\n",
    "cell_group_abundance = pd.read_csv(cell_group_abundance_dataset_path)\n",
    "cell_group_abundance = cell_group_abundance[['patient_alias', 'cell_type', 'abundance']].groupby(by=['patient_alias', 'cell_type']).sum()['abundance'].unstack()\n",
    "cell_group_abundance.index = cell_group_abundance.index.rename(\"patient\")\n",
    "cell_group_abundance = cell_group_abundance / 100\n",
    "cell_group_abundance = cell_group_abundance.loc[cell_abandace.index]\n",
    "\n",
    "cell_group_abundance[\"NKT\"] = cell_group_abundance[[\"CD4 T\", \"CD8 T\", \"NK\"]].sum(axis=1)\n",
    "print(cell_group_abundance.shape)\n",
    "cell_group_abundance.head()"
   ]
  },
  {
   "cell_type": "code",
   "execution_count": null,
   "id": "d25be878-f1de-40f9-b3ce-70ff509d1912",
   "metadata": {},
   "outputs": [],
   "source": [
    "cell_abandace = pd.concat([cell_abandace, cell_group_abundance.drop(columns=\"B\")], axis=1)"
   ]
  },
  {
   "cell_type": "markdown",
   "id": "c6af6477-8d10-45d2-8fc9-38a2c8001eb5",
   "metadata": {},
   "source": [
    "### baseline"
   ]
  },
  {
   "cell_type": "code",
   "execution_count": null,
   "id": "8edeb7b2-3ea3-4d0e-bab8-e8ab4e7719be",
   "metadata": {},
   "outputs": [],
   "source": [
    "baseline_data_path = Path(data_dir_path, \"patients_baseline_predictions.csv\")\n",
    "baseline_data = pd.read_csv(baseline_data_path)\n",
    "baseline_data = baseline_data.rename(columns={'Unnamed: 0': 'sample_id'})\n",
    "baseline_data = baseline_data.set_index('sample_id')\n",
    "\n",
    "baseline_data.index = baseline_data.index.rename(\"patient\")\n",
    "\n",
    "print(baseline_data.shape)\n",
    "print(baseline_data.columns)\n",
    "baseline_data.head()"
   ]
  },
  {
   "cell_type": "code",
   "execution_count": null,
   "id": "c3efab75-85c3-4c91-98f1-237636d5c87b",
   "metadata": {},
   "outputs": [],
   "source": [
    "pd.testing.assert_series_equal(baseline_data[\"TRUE\"], y, check_names=False)"
   ]
  },
  {
   "cell_type": "markdown",
   "id": "fb48ad3d-f24e-469a-a530-d705a37914b1",
   "metadata": {},
   "source": [
    "### patient metadata"
   ]
  },
  {
   "cell_type": "code",
   "execution_count": null,
   "id": "20256000-f3de-4b52-97f9-d48dbc5313bc",
   "metadata": {
    "scrolled": true
   },
   "outputs": [],
   "source": [
    "metadata_path = Path(data_dir_path, \"2024_03_04 CART Clinical metadata analysed only V2.xlsx\")\n",
    "patient_metadata = pd.read_excel(metadata_path).dropna(subset=\"sample_name\")\n",
    "patient_metadata[\"Product {GIL: 0, NOV:1}\"] = patient_metadata[\"Product\"].map({\"GIL\": 0, \"NOV\":1})\n",
    "patient_metadata[\"Sex {M: 0, F:1}\"] = patient_metadata[\"Sex\"].map({\"M\": 0, \"F\":1})\n",
    "patient_metadata[\"sample_name\"] = patient_metadata[\"sample_name\"].apply(lambda x: x.split('/')[0])\n",
    "\n",
    "# patient_metadata.columns"
   ]
  },
  {
   "cell_type": "code",
   "execution_count": null,
   "id": "25e1fc6d-ea7e-4edf-8547-987ac694baf6",
   "metadata": {},
   "outputs": [],
   "source": [
    "patient_map_path = Path(data_dir_path, \"sample_names_ids.csv\")\n",
    "patient_map = pd.read_csv(patient_map_path)\n",
    "patient_map.head()"
   ]
  },
  {
   "cell_type": "code",
   "execution_count": null,
   "id": "3729f5a4-4c21-4b4f-8871-9946bc6dc2d2",
   "metadata": {},
   "outputs": [],
   "source": [
    "patient_metadata = patient_metadata.merge(patient_map, on=\"sample_name\", how=\"inner\", validate=\"1:1\")"
   ]
  },
  {
   "cell_type": "code",
   "execution_count": null,
   "id": "495d2057-adb5-43cd-b4c1-68a9fda3bb67",
   "metadata": {},
   "outputs": [],
   "source": [
    "# \"Sex {M: 0, F:1}\", \"Pick_Ferritin\"\n",
    "\n",
    "patient_metadata = patient_metadata[[\"sample_id\",'Day_7_Expansion (CAR T/ml blood)',  \"Age\", \"Product {GIL: 0, NOV:1}\"]]\n",
    "patient_metadata = patient_metadata.set_index(\"sample_id\")\n",
    "patient_metadata.index = patient_metadata.index.rename(\"patient\")"
   ]
  },
  {
   "cell_type": "code",
   "execution_count": null,
   "id": "108916d8-1aa1-4cba-bd13-9ed9a3717e67",
   "metadata": {},
   "outputs": [],
   "source": [
    "print(patient_metadata.shape)\n",
    "print(patient_metadata.columns)\n",
    "patient_metadata.head()"
   ]
  },
  {
   "cell_type": "markdown",
   "id": "8ea1147f-17bf-4ae8-96ca-3c5ff714872c",
   "metadata": {},
   "source": [
    "### gene pathways"
   ]
  },
  {
   "cell_type": "code",
   "execution_count": null,
   "id": "1cfe9cb4-dc0a-477a-8b86-323ad0998dee",
   "metadata": {},
   "outputs": [],
   "source": [
    "mye_pathways_path = Path(data_dir_path, \"Myeloid_zscore_top10_padj_pathways.csv\")\n",
    "mye_pathways = pd.read_csv(mye_pathways_path)\n",
    "\n",
    "print(mye_pathways.shape)\n",
    "print(mye_pathways.columns)\n",
    "mye_pathways.head()"
   ]
  },
  {
   "cell_type": "code",
   "execution_count": null,
   "id": "18016e1f-03d6-4915-a15c-290598aaf86f",
   "metadata": {},
   "outputs": [],
   "source": [
    "mye_pathways['cleaned_pathways-cell_type'] = mye_pathways['cleaned_pathways'] + \"-\" + mye_pathways['cell_type'] \n",
    "mye_pathways_zscores = mye_pathways[['patient', 'zscore', 'cleaned_pathways-cell_type']].groupby(['patient', 'cleaned_pathways-cell_type'])[\"zscore\"].sum().unstack(level=-1)\n",
    "print(mye_pathways_zscores.shape)\n",
    "print(mye_pathways_zscores.columns)\n",
    "mye_pathways_zscores.head()\n",
    "# mye_pathways_zscores"
   ]
  },
  {
   "cell_type": "markdown",
   "id": "a2797d92-d7e6-47be-b454-d68e77e23303",
   "metadata": {},
   "source": [
    "### merge data"
   ]
  },
  {
   "cell_type": "code",
   "execution_count": null,
   "id": "5ccd1da7-40a1-49c4-840c-558bc50ea062",
   "metadata": {},
   "outputs": [],
   "source": [
    "patient_col = \"patient\"\n",
    "\n",
    "cell_abandace.index = cell_abandace.index.astype(\"string\").str.replace(\"-\",\"_\")\n",
    "mye_pathways_zscores.index = mye_pathways_zscores.index.astype(\"string\").str.replace(\"-\",\"_\")\n",
    "patient_metadata.index = patient_metadata.index.astype(\"string\").str.replace(\"-\",\"_\")"
   ]
  },
  {
   "cell_type": "code",
   "execution_count": null,
   "id": "6e680cca-e850-42e8-bd58-f66f7c0441d2",
   "metadata": {},
   "outputs": [],
   "source": [
    "mye_pathways_zscores.loc[\"NOV_20\"] = mye_pathways_zscores.mean()"
   ]
  },
  {
   "cell_type": "code",
   "execution_count": null,
   "id": "29789af1-e1b1-40ee-9cd0-e369848d8cab",
   "metadata": {},
   "outputs": [],
   "source": [
    "print(\"abandace - mye: \", set(cell_abandace.index).difference(set(mye_pathways_zscores.index)))\n",
    "print(\"mye - abandace: \", set(mye_pathways_zscores.index).difference(set(cell_abandace.index)))\n",
    "###\n",
    "print(\"metadate - mye: \", set(patient_metadata.index).difference(set(mye_pathways_zscores.index)))\n",
    "print(\"mye - metadate: \", set(mye_pathways_zscores.index).difference(set(patient_metadata.index)))\n",
    "####\n",
    "print(\"metadata - abandace: \", set(patient_metadata.index).difference(set(cell_abandace.index)))\n",
    "print(\"abandace - metadata: \", set(cell_abandace.index).difference(set(patient_metadata.index)))\n",
    "\n",
    "print(\"NOV_06 not in metadata, NOV_20 not in mye, GIL_08 not in abandance\")"
   ]
  },
  {
   "cell_type": "code",
   "execution_count": null,
   "id": "df4a4885-e85e-4c2c-af7f-1f7b15de61b9",
   "metadata": {},
   "outputs": [],
   "source": [
    "all_X = cell_abandace.reset_index().merge(mye_pathways_zscores.reset_index(), how=\"inner\", on=patient_col)"
   ]
  },
  {
   "cell_type": "code",
   "execution_count": null,
   "id": "5953715c-bacf-4f72-98c3-0171c09da812",
   "metadata": {},
   "outputs": [],
   "source": [
    "all_X = all_X.merge(patient_metadata.reset_index(), on=patient_col, how=\"inner\")"
   ]
  },
  {
   "cell_type": "code",
   "execution_count": null,
   "id": "f85a545b-8164-47b4-817b-f32422c093ac",
   "metadata": {},
   "outputs": [],
   "source": [
    "all_feats_names = {\n",
    "    \"mye_pathways\": list(mye_pathways_zscores.columns),\n",
    "    \"abundance\": list(cell_abandace.columns),\n",
    "    \"metadata\": list(patient_metadata.columns)\n",
    "}"
   ]
  },
  {
   "cell_type": "code",
   "execution_count": null,
   "id": "eabf5d37-9a70-4884-a46c-4e11593b4610",
   "metadata": {
    "scrolled": true
   },
   "outputs": [],
   "source": [
    "all_X = all_X.set_index(patient_col)\n",
    "print(all_X.shape, y.shape)\n",
    "print(all_X.columns)"
   ]
  },
  {
   "cell_type": "code",
   "execution_count": null,
   "id": "489231d1-6241-4bac-a64d-85b0e831a1be",
   "metadata": {},
   "outputs": [],
   "source": [
    "all_X[\"Product {GIL: 0, NOV:1}\"].value_counts()"
   ]
  },
  {
   "cell_type": "code",
   "execution_count": null,
   "id": "8fcf2e43-691f-4290-9321-c9e6abc18eb9",
   "metadata": {},
   "outputs": [],
   "source": [
    "class_map = {\"R\":1, \"NR\":0}\n",
    "y = y.map(class_map)"
   ]
  },
  {
   "cell_type": "code",
   "execution_count": null,
   "id": "ba335ad2-b9d2-4458-b7b2-d7fe8547a00a",
   "metadata": {},
   "outputs": [],
   "source": [
    "y = y.loc[all_X.index]\n",
    "y.value_counts()"
   ]
  },
  {
   "cell_type": "markdown",
   "id": "d344ac9c-2bff-4aae-9f8f-aa056b731e49",
   "metadata": {},
   "source": [
    "## feature_selection"
   ]
  },
  {
   "cell_type": "code",
   "execution_count": null,
   "id": "715a7b99-0701-4efc-9ab1-c2ba04a92847",
   "metadata": {},
   "outputs": [],
   "source": [
    "single_pathway = \"HALLMARK_TNFA_SIGNALING_VIA_NFKB-CD16 Mono\"\n",
    "\n",
    "featurs = []\n",
    "if use_TNFA_SIGNALING_VIA_NFKB_CD16_Mono:\n",
    "    featurs += [single_pathway]  \n",
    "if use_cell_frequencies:\n",
    "    featurs += all_feats_names[\"abundance\"]\n",
    "\n",
    "X = all_X[featurs]"
   ]
  },
  {
   "cell_type": "code",
   "execution_count": null,
   "id": "7d379338-0144-435d-ab40-e1d3ba7cbafb",
   "metadata": {},
   "outputs": [],
   "source": [
    "X = X.dropna(axis=1)"
   ]
  },
  {
   "cell_type": "code",
   "execution_count": null,
   "id": "f8a3f835-10c7-4e63-a277-75863923a8c4",
   "metadata": {},
   "outputs": [],
   "source": [
    "B_cat_map = {'B_unknown': 0, 'B_tumor': -1, 'B_healthy': 1}\n",
    "if 'B_category' in featurs:\n",
    "    X['B_category'] = X['B_category'].replace(B_cat_map)"
   ]
  },
  {
   "cell_type": "markdown",
   "id": "c142cb26-e0e7-4e5e-ade7-27c93cfa4d2d",
   "metadata": {},
   "source": [
    "### engeneering\n"
   ]
  },
  {
   "cell_type": "code",
   "execution_count": null,
   "id": "f4614e09-5407-47a5-a7b6-6d1fac99b7c1",
   "metadata": {},
   "outputs": [],
   "source": [
    "def normalize_feat(X, feat_name):\n",
    "    X[feat_name] = (X[feat_name] - X[feat_name].mean())/X[feat_name].std()"
   ]
  },
  {
   "cell_type": "code",
   "execution_count": null,
   "id": "200351e1-acd4-44b0-b982-78bf68838f8e",
   "metadata": {},
   "outputs": [],
   "source": [
    "if use_TNFA_SIGNALING_VIA_NFKB_CD16_Mono:\n",
    "    normalize_feat(X, single_pathway)"
   ]
  },
  {
   "cell_type": "markdown",
   "id": "ee03c834-a11f-4bfa-8da7-d2f936cf9945",
   "metadata": {},
   "source": [
    "### view"
   ]
  },
  {
   "cell_type": "code",
   "execution_count": null,
   "id": "c9b52c62-80b1-467a-8f4e-85e71681c450",
   "metadata": {},
   "outputs": [],
   "source": [
    "print(X.shape)\n",
    "print(X.columns)\n",
    "X.head()"
   ]
  },
  {
   "cell_type": "markdown",
   "id": "ab04d901-0e27-4163-b647-20c5492da67e",
   "metadata": {},
   "source": [
    "## cross validation hp search"
   ]
  },
  {
   "cell_type": "code",
   "execution_count": null,
   "id": "baf7f076-db90-46a0-a62c-58c1fc86bbf8",
   "metadata": {},
   "outputs": [],
   "source": [
    "from sklearn.model_selection import train_test_split\n",
    "from clinical_predictions.optuna_optimization import get_best_model_with_optuna"
   ]
  },
  {
   "cell_type": "code",
   "execution_count": null,
   "id": "d06056b6-98c8-444a-9afd-997b8c1d4418",
   "metadata": {},
   "outputs": [],
   "source": [
    "from sklearn.decomposition import PCA\n",
    "\n",
    "def pca_fit_transform_train_transform_test(X_train, X_test, feats_to_pca, pc_name, n_pcs=3):\n",
    "    assert all([feat in X_train.columns for feat in feats_to_pca]), ValueError(\"not all feats in X_train\")\n",
    "    assert all([feat in X_test.columns for feat in feats_to_pca]), ValueError(\"not all feats in X_test\")\n",
    "\n",
    "    pca = PCA(n_components=n_pcs)\n",
    "    pca_X_train = pca.fit_transform(X_train[feats_to_pca])\n",
    "    pca_X_test = pca.transform(X_test[feats_to_pca])\n",
    "\n",
    "    pc_names = [f\"{pc_name}_pc_{i}\" for i in range(n_pcs)]\n",
    "    X_train_transformed = pd.concat([X_train.drop(columns=feats_to_pca), \n",
    "                                       pd.DataFrame(pca_X_train, columns=pc_names, index=X_train.index)],\n",
    "                                      axis=1)\n",
    "    X_test_transformed = pd.concat([X_test.drop(columns=feats_to_pca), \n",
    "                                        pd.DataFrame(pca_X_test, columns=pc_names, index=X_test.index)],\n",
    "                                    axis=1)\n",
    "    \n",
    "    return X_train_transformed, X_test_transformed\n"
   ]
  },
  {
   "cell_type": "code",
   "execution_count": null,
   "id": "841ca3db-1751-4b53-b2d8-33ebf2ee82d1",
   "metadata": {
    "scrolled": true
   },
   "outputs": [],
   "source": [
    "X_train, X_test, y_train, y_test = train_test_split(X, y, test_size=0.3, random_state=42, stratify=y)"
   ]
  },
  {
   "cell_type": "code",
   "execution_count": null,
   "id": "0b4c5b22-ebe7-4806-ab48-9e067f3d7e99",
   "metadata": {
    "scrolled": true
   },
   "outputs": [],
   "source": [
    "best_model, best_trail = get_best_model_with_optuna(X_train, y_train, precision_alpha = 0, n_trials=100)"
   ]
  },
  {
   "cell_type": "code",
   "execution_count": null,
   "id": "a6dc1247-0450-436b-a0ba-3839e24e8764",
   "metadata": {},
   "outputs": [],
   "source": [
    "print(best_trail.user_attrs[\"best_booster\"])\n",
    "pd.DataFrame(best_trail.user_attrs[\"scores\"])"
   ]
  },
  {
   "cell_type": "markdown",
   "id": "41f9ec0c-01df-4075-aaf4-f78572add40e",
   "metadata": {},
   "source": [
    "## evaluation - on train set"
   ]
  },
  {
   "cell_type": "markdown",
   "id": "45cba9d8-2bb6-4c42-94f1-f15ddd1f8146",
   "metadata": {},
   "source": [
    "#### prep"
   ]
  },
  {
   "cell_type": "code",
   "execution_count": null,
   "id": "032f689e-5784-4e86-8131-7028f4d75e4d",
   "metadata": {},
   "outputs": [],
   "source": [
    "from evaluation.visualizations import plot_ROC_PRauc_CM_stem"
   ]
  },
  {
   "cell_type": "code",
   "execution_count": null,
   "id": "ea298057-5b45-4816-94f4-dc4329969718",
   "metadata": {},
   "outputs": [],
   "source": [
    "def predict_train_test(model, X_1, X_2):\n",
    "    y_train_pred = model.predict(X_1)\n",
    "    y_train_proba = model.predict_proba(X_1)[:,1]\n",
    "    y_test_pred = model.predict(X_2)\n",
    "    y_test_proba = model.predict_proba(X_2)[:,1]\n",
    "    return y_train_pred, y_train_proba, y_test_pred, y_test_proba\n",
    "\n",
    "from sklearn.base import clone\n",
    "    \n",
    "def predict_using_all_other(model, X, y, return_trained_models=False, use_pca_of_feats=None, pc_name=\"feature\"):\n",
    "    \n",
    "    y_pred_proba = {}\n",
    "    y_pred = {}\n",
    "    trained_models_dict = {}\n",
    "    for pid in y.index:\n",
    "        _model = clone(model)\n",
    "        X_train = X.drop(pid)\n",
    "        y_train = y.drop(pid)\n",
    "\n",
    "        X_pred = X.loc[pid]\n",
    "        X_pred = pd.DataFrame(X_pred).T\n",
    "        \n",
    "        if not use_pca_of_feats is None:\n",
    "            X_train, X_pred = pca_fit_transform_train_transform_test(X_train, X_pred, feats_to_pca=use_pca_of_feats, pc_name=pc_name)\n",
    "        _model.fit(X_train, y_train)\n",
    "        \n",
    "        pred = _model.predict(X_pred)[0]\n",
    "        proba_ref = _model.predict_proba(X_pred)[0][1]\n",
    "        y_pred[pid] = pred\n",
    "        y_pred_proba[pid] = proba_ref\n",
    "        trained_models_dict[pid] = _model\n",
    "    \n",
    "    y_proba_pred = pd.Series(y_pred_proba)\n",
    "    y_pred = pd.Series(y_pred)\n",
    "    if return_trained_models:\n",
    "        return y_pred, y_proba_pred, trained_models_dict\n",
    "    return y_pred, y_proba_pred\n",
    "    # y_proba_pred.hist()"
   ]
  },
  {
   "cell_type": "markdown",
   "id": "cef1d684-310c-49a4-bbcb-2b9e7b7666aa",
   "metadata": {},
   "source": [
    "### response"
   ]
  },
  {
   "cell_type": "code",
   "execution_count": null,
   "id": "9a131da9-c8b5-4dcb-9634-16ce6f7f9ddf",
   "metadata": {},
   "outputs": [],
   "source": [
    "best_model"
   ]
  },
  {
   "cell_type": "code",
   "execution_count": null,
   "id": "3c309d75-3d2d-428b-9321-d4e6da1b64ee",
   "metadata": {},
   "outputs": [],
   "source": [
    "best_model.fit(X_train, y_train)\n",
    "y_train_pred, y_train_proba, y_test_pred, y_test_proba = predict_train_test(best_model, X_train, X_test)\n",
    "plot_ROC_PRauc_CM_stem(y_train, y_train_pred, y_train_proba, pos_label=1)"
   ]
  },
  {
   "cell_type": "code",
   "execution_count": null,
   "id": "742ee88c-8dee-421f-9363-f63b6b2ef4e3",
   "metadata": {},
   "outputs": [],
   "source": [
    "y_train_pred, y_train_proba, models_dict= predict_using_all_other(best_model, X_train, y_train, return_trained_models=True)\n",
    "plot_ROC_PRauc_CM_stem(y_train, y_train_pred, y_train_proba, pos_label=best_model.classes_[1])"
   ]
  },
  {
   "cell_type": "code",
   "execution_count": null,
   "id": "c9c5d700-2d5c-4e49-b765-b8160210810a",
   "metadata": {},
   "outputs": [],
   "source": [
    "df = \"NONE\"\n",
    "num_highest = 3\n",
    "try:\n",
    "    bad_patients = y_train_proba[y_train==0].sort_values().iloc[-num_highest:]\n",
    "    good_patient = y_train_proba[y_train==1].sort_values().iloc[-num_highest:]\n",
    "    assert all(y[bad_patients.index] == 0)\n",
    "    assert all(y[good_patient.index] == 1)\n",
    "    df = pd.concat([X.loc[bad_patients.index], X.loc[good_patient.index]])\n",
    "except:\n",
    "    print(\"ERROR\")\n",
    "df"
   ]
  },
  {
   "cell_type": "code",
   "execution_count": null,
   "id": "01369c6a-5a85-4adf-b16d-ca43353c03be",
   "metadata": {},
   "outputs": [],
   "source": [
    "try:\n",
    "    plot_df = X.copy()\n",
    "    plot_df[\"y_pred\"] = y_train_proba\n",
    "    plot_df[\"y_true\"] = y\n",
    "    # featurs = single_pathway, \"HALLMARK_INFLAMMATORY_RESPONSE-CD16 Mono\", # \"HALLMARK_APICAL_JUNCTION-CD16 Mono\",\n",
    "    fig = px.scatter(plot_df.reset_index(), x=single_pathway,\n",
    "                     y= \"CD16 Mono\", \n",
    "                     color=\"y_pred\",\n",
    "                     # size='petal_length',\n",
    "                     hover_data=['patient', \"y_pred\", \"B\", \"y_true\"]\n",
    "                    )\n",
    "    fig.show()\n",
    "except ValueError:\n",
    "    pass"
   ]
  },
  {
   "cell_type": "markdown",
   "id": "da36e370-175b-4f84-88c6-c8d496b4f561",
   "metadata": {},
   "source": [
    "## explainability and error analisys"
   ]
  },
  {
   "cell_type": "code",
   "execution_count": null,
   "id": "a2ba6757-fc5b-4d48-b380-034068b5bc5d",
   "metadata": {},
   "outputs": [],
   "source": [
    "import shap\n",
    "\n",
    "def print_shap_plots(model, X):\n",
    "    try: # tree\n",
    "        explainer = shap.TreeExplainer(model)\n",
    "    except:\n",
    "        try: # kernel\n",
    "            explainer = shap.Explainer(model, X) \n",
    "        except:\n",
    "            explainer = shap.KernelExplainer(model.predict, X)\n",
    "    shap_values = explainer(X)\n",
    "    if len(shap_values.shape) >2:\n",
    "        shap_values = shap_values[:,:,1]\n",
    "    shap.plots.beeswarm(shap_values)\n",
    "    shap.plots.bar(shap_values, max_display=5)\n",
    "    return shap_values\n"
   ]
  },
  {
   "cell_type": "markdown",
   "id": "5c3a29ab-35ab-419b-adfb-7105ddb03fe5",
   "metadata": {},
   "source": [
    "### response"
   ]
  },
  {
   "cell_type": "code",
   "execution_count": null,
   "id": "e9d12b4f-624d-4371-b12c-08e31aed4ab6",
   "metadata": {
    "scrolled": true
   },
   "outputs": [],
   "source": [
    "_ = print_shap_plots(best_model, X_train)\n",
    "_ = print_shap_plots(best_model, X_test)"
   ]
  },
  {
   "cell_type": "code",
   "execution_count": null,
   "id": "baf52724-088d-492a-8786-1edcfdcd8522",
   "metadata": {},
   "outputs": [],
   "source": [
    "## test"
   ]
  },
  {
   "cell_type": "code",
   "execution_count": null,
   "id": "af007736-c6ec-4886-a5a9-3d707a973583",
   "metadata": {},
   "outputs": [],
   "source": [
    "import numpy as np\n",
    "from sklearn import metrics\n",
    "def print_metrics(y_true, y_score):\n",
    "    report = metrics.classification_report(y_true, y_score, output_dict=True)\n",
    "    print_report = {\n",
    "        \"R precision\": round(report['1']['precision'], 3),\n",
    "        \"NR precision\": round(report['0']['precision'], 3),\n",
    "        'accuracy': round(report['accuracy'],3)\n",
    "    }\n",
    "    print_repors_list = [f\"{k}: {v}\" for k,v in print_report.items()]\n",
    "    print(\"\\n\".join(print_repors_list))"
   ]
  },
  {
   "cell_type": "code",
   "execution_count": null,
   "id": "58ec3ae5-b931-4f21-9f1f-a11a8dea0a63",
   "metadata": {},
   "outputs": [],
   "source": [
    "print_metrics(y_test, y_test_pred)\n",
    "plot_ROC_PRauc_CM_stem(y_test, y_test_pred, y_test_proba, pos_label=best_model.classes_[1])"
   ]
  },
  {
   "cell_type": "code",
   "execution_count": null,
   "id": "f3476c98-82e8-4222-8666-92ef2df4b25d",
   "metadata": {
    "scrolled": true
   },
   "outputs": [],
   "source": [
    "pca_feats = None\n",
    "    \n",
    "y_pred, y_proba = predict_using_all_other(best_model, X, y, use_pca_of_feats=pca_feats, pc_name=\"mye_pathways\")\n",
    "print_metrics(y, y_pred)\n",
    "plot_ROC_PRauc_CM_stem(y, y_pred, y_proba, flip_stem=True, use_all_score_range=True)"
   ]
  },
  {
   "cell_type": "code",
   "execution_count": null,
   "id": "a2e93460-7aa3-4332-9930-def6a5096901",
   "metadata": {},
   "outputs": [],
   "source": [
    "df = \"NONE\"\n",
    "num_highest = 3\n",
    "try:\n",
    "    bad_patients = y_proba[y==0].sort_values().iloc[-num_highest:]\n",
    "    good_patient = y_proba[y==1].sort_values().iloc[-num_highest:]\n",
    "    assert all(y[bad_patients.index] == 0)\n",
    "    assert all(y[good_patient.index] == 1)\n",
    "    df = pd.concat([X.loc[bad_patients.index], X.loc[good_patient.index]])\n",
    "except:\n",
    "    print(\"ERROR\")\n",
    "df"
   ]
  },
  {
   "cell_type": "markdown",
   "id": "f7276496-22c2-4378-b27f-6446604ce274",
   "metadata": {},
   "source": [
    "## hard test - external validation"
   ]
  },
  {
   "cell_type": "markdown",
   "id": "5c643380-88f8-4505-8255-7bd078448598",
   "metadata": {},
   "source": [
    "### load data"
   ]
  },
  {
   "cell_type": "markdown",
   "id": "c97f3549-fefc-4526-a74c-115d4a3541d2",
   "metadata": {},
   "source": [
    "#### cell type + y + product"
   ]
  },
  {
   "cell_type": "code",
   "execution_count": null,
   "id": "b6a85226-7210-4a9f-9095-a46ed0a9c115",
   "metadata": {},
   "outputs": [],
   "source": [
    "haradvala_cell_freq = pd.read_csv(Path(data_dir_path, 'haradvala_cell_type_abundance_by_response_complete_renamed.csv'))\n",
    "haradvala_cell_freq = haradvala_cell_freq.set_index('sample_id')\n",
    "\n",
    "haradvala_cell_freq = haradvala_cell_freq.rename(columns={\"Product\":\"Product {GIL: 0, NOV:1}\"})\n",
    "\n",
    "class_map = {\"R\":1, \"NR\":0}\n",
    "y_hard_test = haradvala_cell_freq[\"response\"].map(class_map)\n",
    "y_hard_test.index = y_hard_test.index.rename(\"patient\")\n",
    "haradvala_cell_freq = haradvala_cell_freq.drop(columns=\"response\")\n",
    "haradvala_cell_freq.index = haradvala_cell_freq.index.rename(\"patient\")\n",
    "\n",
    "haradvala_cell_freq.shape, haradvala_cell_freq.columns\n",
    "# y_hard_test"
   ]
  },
  {
   "cell_type": "code",
   "execution_count": null,
   "id": "c1da166f-f459-4c4a-8bd5-87861c6c6181",
   "metadata": {},
   "outputs": [],
   "source": [
    "5e-1"
   ]
  },
  {
   "cell_type": "code",
   "execution_count": null,
   "id": "bd928df9-750b-4706-a838-a93f11f3aace",
   "metadata": {},
   "outputs": [],
   "source": [
    "y_hard_test = y_hard_test.loc[haradvala_cell_freq.index]\n",
    "y_hard_test.shape"
   ]
  },
  {
   "cell_type": "code",
   "execution_count": null,
   "id": "c51fb282-17ad-481c-97c3-0f904d15bd7f",
   "metadata": {},
   "outputs": [],
   "source": [
    "haradvala_metadata = haradvala_cell_freq[[\"Product {GIL: 0, NOV:1}\"]]\n",
    "haradvala_cell_freq = haradvala_cell_freq.drop(columns=\"Product {GIL: 0, NOV:1}\")"
   ]
  },
  {
   "cell_type": "code",
   "execution_count": null,
   "id": "497258ac-18f5-409d-8b69-bc03f7a7c3b3",
   "metadata": {},
   "outputs": [],
   "source": [
    "haradvala_cell_freq.head()"
   ]
  },
  {
   "cell_type": "markdown",
   "id": "26f83df2-e0b8-43d1-889c-4fbbe6312158",
   "metadata": {},
   "source": [
    "#### cell group"
   ]
  },
  {
   "cell_type": "code",
   "execution_count": null,
   "id": "1fecb307-5657-4e13-b531-9f11b7beb4ff",
   "metadata": {},
   "outputs": [],
   "source": [
    "raw_group_df = pd.read_csv(Path(data_dir_path, 'Harvdhala_cell_group_abundance_by_response.csv'))\n",
    "group_df = raw_group_df[[\"patient_alias\", \"cell_type\", \"abundance\"]].groupby(by=[\"patient_alias\", \"cell_type\"]).sum()[ \"abundance\"].unstack(level=-1)\n",
    "group_df.index = group_df.index.rename(\"patient\")\n",
    "group_df = group_df.rename(columns={'myeloid': 'Myeloid'})\n",
    "group_df = group_df/100\n",
    "group_df.head()"
   ]
  },
  {
   "cell_type": "markdown",
   "id": "b54508a2-b2bc-4eea-b64a-1b5334ca8b9a",
   "metadata": {},
   "source": [
    "#### mye pathways"
   ]
  },
  {
   "cell_type": "code",
   "execution_count": null,
   "id": "a750091b-7cc1-4d04-8c27-45b9fb18f12d",
   "metadata": {},
   "outputs": [],
   "source": [
    "haradvala_mye_pathways = pd.read_csv(Path(data_dir_path, 'Myeloid_Modulescore_all_pathways5genes.csv'))\n",
    "haradvala_mye_pathways['cell_type'] = haradvala_mye_pathways['cell_type'].apply(lambda x: \" \".join(x.split(\".\")[::-1]))\n",
    "haradvala_mye_pathways['cleaned_pathways-cell_type'] = haradvala_mye_pathways['cleaned_pathways'] + \"-\" + haradvala_mye_pathways['cell_type'] \n",
    "haradvala_mye_pathways = haradvala_mye_pathways[['Patient', 'zscore', 'cleaned_pathways-cell_type']].groupby(['Patient', 'cleaned_pathways-cell_type'])[\"zscore\"].sum().unstack(level=-1)\n",
    "haradvala_mye_pathways.index = haradvala_mye_pathways.index.rename(\"patient\")\n",
    "haradvala_mye_pathways.index = pd.Series(haradvala_mye_pathways.index).apply(lambda x: f\"Patient{int(x[-2:])}-Baseline\")\n",
    "\n",
    "haradvala_mye_pathways.head()"
   ]
  },
  {
   "cell_type": "code",
   "execution_count": null,
   "id": "3e057bf8-6d8c-4541-bd98-f0be7e3002a7",
   "metadata": {},
   "outputs": [],
   "source": [
    "if use_TNFA_SIGNALING_VIA_NFKB_CD16_Mono:\n",
    "    normalize_feat(haradvala_mye_pathways, single_pathway)"
   ]
  },
  {
   "cell_type": "markdown",
   "id": "4240899a-33bd-493f-b2b8-2b78c25bc4e3",
   "metadata": {},
   "source": [
    "#### combine"
   ]
  },
  {
   "cell_type": "code",
   "execution_count": null,
   "id": "eea6b918-78f1-4e18-a75c-72af89ccea64",
   "metadata": {},
   "outputs": [],
   "source": [
    "all_X_hard_test= pd.concat([haradvala_cell_freq.drop(columns=\"B\"), group_df , haradvala_mye_pathways[single_pathway]], axis=1)"
   ]
  },
  {
   "cell_type": "code",
   "execution_count": null,
   "id": "6abab88f-be4f-46a0-bf31-c2e1a4ff2fb6",
   "metadata": {},
   "outputs": [],
   "source": [
    "X_hard_test = all_X_hard_test.copy()\n",
    "if not use_TNFA_SIGNALING_VIA_NFKB_CD16_Mono:\n",
    "    X_hard_test = X_hard_test.drop(columns=single_pathway)\n",
    "common_feats = list(set(X).intersection(set(X_hard_test)))\n",
    "                    \n",
    "X_trasnformed = X[common_feats]\n",
    "X_hard_test_transformed = X_hard_test[common_feats]\n",
    "\n",
    "X_hard_test_transformed.columns"
   ]
  },
  {
   "cell_type": "markdown",
   "id": "87c4ff50-0aa8-480f-8b84-d6f71fd36706",
   "metadata": {},
   "source": [
    "### evaluate"
   ]
  },
  {
   "cell_type": "code",
   "execution_count": null,
   "id": "ea8602b4-eba4-403f-bb5d-232cf8ab828e",
   "metadata": {},
   "outputs": [],
   "source": [
    "best_model.fit(X_trasnformed,y)\n",
    "y_hard_test_pred = best_model.predict(X_hard_test_transformed)\n",
    "y_hard_test_proba = best_model.predict_proba(X_hard_test_transformed)[:,1]\n",
    "plot_ROC_PRauc_CM_stem(y_hard_test, y_hard_test_pred, y_hard_test_proba)"
   ]
  },
  {
   "cell_type": "code",
   "execution_count": null,
   "id": "3073a711-e972-4814-ab58-35dda27f318d",
   "metadata": {
    "scrolled": true
   },
   "outputs": [],
   "source": [
    "_ = print_shap_plots(best_model, X_hard_test_transformed)\n",
    "_ = print_shap_plots(best_model, X_trasnformed)"
   ]
  },
  {
   "cell_type": "markdown",
   "id": "9bae7a3d-c776-46e4-9aaa-ba2bb069f6b1",
   "metadata": {},
   "source": [
    "## save all results"
   ]
  },
  {
   "cell_type": "code",
   "execution_count": null,
   "id": "872046f3-fd49-4276-a57e-2d802c74e893",
   "metadata": {},
   "outputs": [],
   "source": [
    "from evaluation.experiment_managment import generate_experiment_name\n",
    "\n",
    "experiment_name = generate_experiment_name(use_cell_frequencies=use_cell_frequencies,\n",
    "                                           use_TNFA_SIGNALING_VIA_NFKB_CD16_Mono=use_TNFA_SIGNALING_VIA_NFKB_CD16_Mono,\n",
    "                                           )\n",
    "experiment_name"
   ]
  },
  {
   "cell_type": "code",
   "execution_count": null,
   "id": "9ddca95f-4e4c-4056-ad94-7ead71d6f76d",
   "metadata": {},
   "outputs": [],
   "source": [
    "all_exp_data = {\n",
    "    \"X\": X,\n",
    "    \"y\": y,\n",
    "    'patient_map': patient_map.drop(columns='Unnamed: 0').rename(columns={'sample_id': patient_col}),\n",
    "    'features': featurs,\n",
    "    'model': best_model,\n",
    "    \"loocv\": {\n",
    "        'y': y,\n",
    "        'y_proba': y_proba,\n",
    "        'y_pred':y_pred\n",
    "    },\n",
    "    'test': {\n",
    "        'X_train':X_train, \n",
    "        'X_test': X_test,\n",
    "        'y':y_test,\n",
    "        'y_proba':y_test_proba,\n",
    "        'y_pred':y_test_pred\n",
    "    },\n",
    "    'external_eval': {\n",
    "        \"X_train\": X_trasnformed,\n",
    "        \"X_test\": X_hard_test_transformed,\n",
    "        'y': y_hard_test, \n",
    "        'y_proba': y_hard_test_proba,\n",
    "        \n",
    "        'y_pred':y_hard_test_pred\n",
    "    }\n",
    "}"
   ]
  },
  {
   "cell_type": "code",
   "execution_count": null,
   "id": "1bf03c37-23db-4002-aad7-a943157c04cc",
   "metadata": {},
   "outputs": [],
   "source": [
    "import pickle"
   ]
  },
  {
   "cell_type": "code",
   "execution_count": null,
   "id": "b97afa55-30ba-4b00-808c-5b599d0a1d9d",
   "metadata": {},
   "outputs": [],
   "source": [
    "results_path  = Path(data_dir_path, f\"{experiment_name}.pkl\")\n",
    "with open(results_path, 'wb') as handle:\n",
    "    pickle.dump(all_exp_data, handle, protocol=pickle.HIGHEST_PROTOCOL)"
   ]
  },
  {
   "cell_type": "code",
   "execution_count": null,
   "id": "24df8e7a-aefd-4e31-9d5c-eaa795634cf3",
   "metadata": {},
   "outputs": [],
   "source": [
    "with open(results_path, 'rb') as handle:\n",
    "    loaded_results = pickle.load(handle)\n",
    "loaded_results.keys()"
   ]
  },
  {
   "cell_type": "code",
   "execution_count": null,
   "id": "2cc1cd5e-5b98-424e-a121-68175741b385",
   "metadata": {},
   "outputs": [],
   "source": []
  }
 ],
 "metadata": {
  "kernelspec": {
   "display_name": "Python 3 (ipykernel)",
   "language": "python",
   "name": "python3"
  },
  "language_info": {
   "codemirror_mode": {
    "name": "ipython",
    "version": 3
   },
   "file_extension": ".py",
   "mimetype": "text/x-python",
   "name": "python",
   "nbconvert_exporter": "python",
   "pygments_lexer": "ipython3",
   "version": "3.9.18"
  }
 },
 "nbformat": 4,
 "nbformat_minor": 5
}
