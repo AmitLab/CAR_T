{
 "cells": [
  {
   "cell_type": "code",
   "execution_count": null,
   "id": "606f855e-d6b6-4885-aa02-751cf7bf8ce0",
   "metadata": {},
   "outputs": [],
   "source": [
    "%load_ext autoreload\n",
    "%autoreload 2"
   ]
  },
  {
   "cell_type": "code",
   "execution_count": null,
   "id": "a097c05c-a44f-40a9-be15-f1c6b28dfa45",
   "metadata": {},
   "outputs": [],
   "source": [
    "import sys\n",
    "from pathlib import Path\n",
    "from datetime import date\n",
    "\n",
    "import pandas as pd\n",
    "import numpy as np\n",
    "from sklearn import metrics\n",
    "\n",
    "import matplotlib.pyplot as plt\n",
    "import plotly.express as px\n",
    "import matplotlib as mpl\n",
    "mpl.rcParams['figure.dpi'] = 600"
   ]
  },
  {
   "cell_type": "code",
   "execution_count": null,
   "id": "d83b3c57-25f3-4717-b3dd-602683329648",
   "metadata": {},
   "outputs": [],
   "source": [
    "plt.rcParams['svg.fonttype'] = 'none'"
   ]
  },
  {
   "cell_type": "code",
   "execution_count": null,
   "id": "ad2435d1-6efb-4316-88da-62b2fbb8d385",
   "metadata": {},
   "outputs": [],
   "source": [
    "## general configuration"
   ]
  },
  {
   "cell_type": "code",
   "execution_count": null,
   "id": "9d918f35-f4f3-4e77-925d-38d3bf2e40b8",
   "metadata": {},
   "outputs": [],
   "source": [
    "repo_dir = '/home/labs/amit/noamsh/repos/CAR_T'\n",
    "sys.path.append(repo_dir)\n",
    "data_dir_path = Path(repo_dir, \"data\")"
   ]
  },
  {
   "cell_type": "code",
   "execution_count": null,
   "id": "8334892d-2530-469e-bab9-8a1dca789743",
   "metadata": {},
   "outputs": [],
   "source": [
    "figures_dir = Path(data_dir_path, \"figures\", date.today().isoformat())\n",
    "figures_dir.mkdir(parents=True, exist_ok=True)"
   ]
  },
  {
   "cell_type": "code",
   "execution_count": null,
   "id": "4d718ef0-42b8-4962-8c24-933ce1a1ad2a",
   "metadata": {},
   "outputs": [],
   "source": [
    "figures_dir"
   ]
  },
  {
   "cell_type": "code",
   "execution_count": null,
   "id": "f2647fde-cc47-40c2-b9f7-0525b7844757",
   "metadata": {},
   "outputs": [],
   "source": [
    "## exp results loading"
   ]
  },
  {
   "cell_type": "code",
   "execution_count": null,
   "id": "2df4f565-50ad-43d7-8458-ef7878ec8c23",
   "metadata": {},
   "outputs": [],
   "source": [
    "from evaluation.experiment_managment import load_results_of_exp_name, generate_experiment_name"
   ]
  },
  {
   "cell_type": "code",
   "execution_count": null,
   "id": "6722bb7c-b659-4730-9730-94e790f11b87",
   "metadata": {},
   "outputs": [],
   "source": [
    "exps_dict = {\n",
    "    \"Cellular frequencies\": load_results_of_exp_name(generate_experiment_name(use_cell_frequencies=True), from_dir=data_dir_path),\n",
    "    \"TNFa-CD16\": load_results_of_exp_name(generate_experiment_name(use_TNFA_SIGNALING_VIA_NFKB_CD16_Mono=True), from_dir=data_dir_path),\n",
    "    \"Combined_TNFa\": load_results_of_exp_name(generate_experiment_name(use_cell_frequencies=True, use_TNFA_SIGNALING_VIA_NFKB_CD16_Mono=True), from_dir=data_dir_path),\n",
    "}"
   ]
  },
  {
   "cell_type": "code",
   "execution_count": null,
   "id": "9227d0e7-3c1b-49b3-b3e8-e21f7b3201ef",
   "metadata": {},
   "outputs": [],
   "source": [
    "## plot per experiment visualization"
   ]
  },
  {
   "cell_type": "code",
   "execution_count": null,
   "id": "d83f47e6-5cc9-4963-9caa-78586d072f7b",
   "metadata": {},
   "outputs": [],
   "source": [
    "from evaluation.visualizations import plot_ROC_PRauc_CM_stem"
   ]
  },
  {
   "cell_type": "code",
   "execution_count": null,
   "id": "ffd6953e-e41d-4b36-b8bb-517188b7adf7",
   "metadata": {},
   "outputs": [],
   "source": [
    "def print_metrics(y_true, y_score):\n",
    "    report = metrics.classification_report(y_true, y_score, output_dict=True)\n",
    "    print_report = {\n",
    "        \"R precision\": round(report['1']['precision'], 3),\n",
    "        \"NR precision\": round(report['0']['precision'], 3),\n",
    "        'accuracy': round(report['accuracy'],3)\n",
    "    }\n",
    "    print_repors_list = [f\"{k}: {v}\" for k,v in print_report.items()]\n",
    "    print(\"\\n\".join(print_repors_list))"
   ]
  },
  {
   "cell_type": "code",
   "execution_count": null,
   "id": "02329ca7-e1a3-4a63-b9e2-e757991f7c53",
   "metadata": {},
   "outputs": [],
   "source": [
    "patient_name_map = exps_dict[\"Cellular frequencies\"]['patient_map'].set_index(\"patient\")[\"sample_name\"]"
   ]
  },
  {
   "cell_type": "code",
   "execution_count": null,
   "id": "09b78f6c-dc86-4ac6-afa5-113f2f8c4b65",
   "metadata": {
    "scrolled": true
   },
   "outputs": [],
   "source": [
    "for exp_name, results in exps_dict.items():\n",
    "    print(f\"features: {results['test']['X_train'].columns}\")\n",
    "    for eval_key in ['loocv']: #, 'test'\n",
    "        y_true = results[eval_key][\"y\"].rename(index=patient_name_map)\n",
    "        y_pred = np.array(results[eval_key][\"y_pred\"])\n",
    "        y_proba =  np.array(results[eval_key][\"y_proba\"])\n",
    "\n",
    "        exp_full_name = f\"{exp_name}: {eval_key}\"\n",
    "        print(exp_full_name)\n",
    "        print(f\"model: {results['model']}\")\n",
    "        print_metrics(y_true, y_pred)\n",
    "\n",
    "        image_path= Path(figures_dir, f\"{exp_full_name.replace(':','').replace(' ', '_')}.svg\")\n",
    "        plot_ROC_PRauc_CM_stem(y_true, y_pred, y_proba, flip_stem=True, save_figure_to_path=image_path, use_all_score_range=True)"
   ]
  },
  {
   "cell_type": "code",
   "execution_count": null,
   "id": "39c6a838-9a5b-4f72-9673-e4b88a13cda5",
   "metadata": {},
   "outputs": [],
   "source": [
    "## plot shape value"
   ]
  },
  {
   "cell_type": "code",
   "execution_count": null,
   "id": "2ec7654f-b069-4166-b416-0d50dfc3d3f8",
   "metadata": {},
   "outputs": [],
   "source": [
    "import shap\n",
    "\n",
    "def print_shap_plots(model, X, save_figure_to_path=None):\n",
    "    try: # tree\n",
    "        explainer = shap.TreeExplainer(model)\n",
    "    except:\n",
    "        try: # kernel\n",
    "            explainer = shap.Explainer(model, X) \n",
    "        except:\n",
    "            explainer = shap.KernelExplainer(model.predict, X)\n",
    "    shap_values = explainer(X)\n",
    "    if len(shap_values.shape) >2:\n",
    "        shap_values = shap_values[:,:,1]\n",
    "    # shap.plots.beeswarm(shap_values)\n",
    "    shap.plots.bar(shap_values, max_display=5)\n",
    "    if save_figure_to_path is not None:\n",
    "        plt.savefig(save_figure_to_path, format=\"pdf\")\n",
    "    return shap_values\n"
   ]
  },
  {
   "cell_type": "code",
   "execution_count": null,
   "id": "9fa1148c-c991-4b88-8b08-d1b8209d764f",
   "metadata": {
    "scrolled": true
   },
   "outputs": [],
   "source": [
    "for exp_name, results in exps_dict.items():\n",
    "    model = results[\"model\"]\n",
    "    X_train = results['test'][\"X_train\"]\n",
    "    y_train = results['y'].loc[X_train.index]\n",
    "    model.fit(X_train ,y_train)\n",
    "\n",
    "    print(f\"{exp_name}: train shap values\")\n",
    "    _ = print_shap_plots(model, X_train)\n",
    "    print(f\"{exp_name}: test shap values\")\n",
    "    image_path = Path(figures_dir, f\"{exp_name}_test_shap.pdf\")\n",
    "    _ = print_shap_plots(model, results['test'][\"X_test\"]) #, save_figure_to_path=image_path)"
   ]
  },
  {
   "cell_type": "code",
   "execution_count": null,
   "id": "8fe7691d-4fe7-4928-9859-04286eaab53f",
   "metadata": {},
   "outputs": [],
   "source": [
    "## plot combined ROC curve"
   ]
  },
  {
   "cell_type": "code",
   "execution_count": null,
   "id": "90531125-2c23-4c7a-9336-03d53be0049f",
   "metadata": {},
   "outputs": [],
   "source": [
    "from evaluation.visualizations import plot_loocv_roc_curves"
   ]
  },
  {
   "cell_type": "code",
   "execution_count": null,
   "id": "46a53584-36dd-4195-98d2-319af996d1ea",
   "metadata": {},
   "outputs": [],
   "source": [
    "exp_names_to_plot = {\n",
    "    \"Cellular frequencies\": \"Cellular frequencies\",\n",
    "    \"TNFa-CD16\":  \"Myeloid pathway\",\n",
    "    \"Combined_TNFa\": \"Combined\",\n",
    "}"
   ]
  },
  {
   "cell_type": "code",
   "execution_count": null,
   "id": "2f173b09-cca1-4651-85b0-fe81e848d468",
   "metadata": {},
   "outputs": [],
   "source": [
    "### figures"
   ]
  },
  {
   "cell_type": "code",
   "execution_count": null,
   "id": "28d9e347-71ac-40d8-97cd-f890ff603ce6",
   "metadata": {
    "scrolled": true
   },
   "outputs": [],
   "source": [
    "plot_loocv_roc_curves(exps_dict, exp_names_to_plot, Path(figures_dir, f\"ROC_curve_no_mon_ratio.svg\"))"
   ]
  },
  {
   "cell_type": "code",
   "execution_count": null,
   "id": "57785064-a551-4c5d-abcc-4dd3d6caa9e8",
   "metadata": {},
   "outputs": [],
   "source": [
    "## external evaluation"
   ]
  },
  {
   "cell_type": "code",
   "execution_count": null,
   "id": "d7f49ef1-f225-46ad-b82a-aa3f8633fc03",
   "metadata": {
    "scrolled": true
   },
   "outputs": [],
   "source": [
    "for exp_name, results in exps_dict.items():\n",
    "    if exp_name not in [\"Combined\", \"Myeloid pathways\"]: # no \n",
    "        print(f\"haradvala: {exp_name}\")\n",
    "        X_train = results['external_eval']['X_train']\n",
    "        if X_train is not None:\n",
    "            print(f\"features: {results['external_eval']['X_train'].columns}\")\n",
    "            y_true = results['external_eval'][\"y\"]\n",
    "            y_pred = np.array(results['external_eval'][\"y_pred\"])\n",
    "            y_proba =  np.array(results['external_eval'][\"y_proba\"])\n",
    "    \n",
    "            image_path= Path(figures_dir, f\"haradvala_{exp_name}.svg\")\n",
    "            plot_ROC_PRauc_CM_stem(y_true, y_pred, y_proba, flip_stem=True, save_figure_to_path=image_path, use_all_score_range=True)"
   ]
  },
  {
   "cell_type": "code",
   "execution_count": null,
   "id": "8a9c238e-d2b8-46d4-bbdd-9cefd67fcbcb",
   "metadata": {},
   "outputs": [],
   "source": [
    "### shap"
   ]
  },
  {
   "cell_type": "code",
   "execution_count": null,
   "id": "0aafc1c3-6d6b-4c9b-9ce5-ede5584bf0da",
   "metadata": {
    "scrolled": true
   },
   "outputs": [],
   "source": [
    "for exp_name, results in exps_dict.items():\n",
    "    if exp_name not in [\"Combined\",  \"Combined Mono ratio\", \"Myeloid pathways\"]:\n",
    "        model = results[\"model\"]\n",
    "        X_train = results['external_eval'][\"X_train\"]\n",
    "        y_train = results['y']\n",
    "        model.fit(X_train ,y_train)\n",
    "    \n",
    "        print(f\"{exp_name}: internal shap values\")\n",
    "        _ = print_shap_plots(model, X_train)\n",
    "        print(f\"{exp_name}: haradvala shap values\")\n",
    "        # image_path = Path(figures_dir, f\"{exp_name}_test_shap.pdf\")\n",
    "        _ = print_shap_plots(model, results['external_eval'][\"X_test\"]) #, save_figure_to_path=image_path)"
   ]
  },
  {
   "cell_type": "code",
   "execution_count": null,
   "id": "2af39288-b0ed-4479-a482-317955e17777",
   "metadata": {},
   "outputs": [],
   "source": [
    "## final metrics table"
   ]
  },
  {
   "cell_type": "code",
   "execution_count": null,
   "id": "3c4c65b0-8fae-4698-a05b-91653e84bc52",
   "metadata": {},
   "outputs": [],
   "source": [
    "from sklearn.metrics import roc_auc_score\n",
    "all_metrics = []\n",
    "for i, (exp_name, new_exp_name) in enumerate(exp_names_to_plot.items()):\n",
    "    for dataset in ['loocv', 'external_eval']:\n",
    "        results = exps_dict[exp_name]\n",
    "        y_true = results[dataset][\"y\"]\n",
    "        y_pred = np.array(results[dataset][\"y_pred\"])\n",
    "        y_score = np.array(results[dataset][\"y_proba\"])\n",
    "        \n",
    "        report = metrics.classification_report(y_true, y_pred, output_dict=True)\n",
    "        report_metrics = {\n",
    "            \"R precision\": round(report['1']['precision'], 2),\n",
    "            \"NR precision\": round(report['0']['precision'], 2),\n",
    "            'accuracy': round(report['accuracy'],2)\n",
    "        }\n",
    "        report_metrics[\"ROC AUC\"] = round(roc_auc_score(y_true, y_score), 2)\n",
    "        report_metrics[\"experiment name\"] = new_exp_name\n",
    "        report_metrics[\"dataset\"] = 'external evaluation' if dataset == 'external_eval' else 'internal evaluation'\n",
    "        all_metrics.append(report_metrics)\n",
    "    "
   ]
  },
  {
   "cell_type": "code",
   "execution_count": null,
   "id": "3d1ee98b-6f35-4ad9-934c-525efd1e1eff",
   "metadata": {},
   "outputs": [],
   "source": [
    "summary_df = pd.DataFrame(all_metrics).groupby(by=['experiment name', 'dataset']).max()\n",
    "summary_df"
   ]
  },
  {
   "cell_type": "code",
   "execution_count": null,
   "id": "3738d230-e874-44f1-a58e-74aefee7dfa2",
   "metadata": {},
   "outputs": [],
   "source": [
    "summary_df.to_csv(Path(figures_dir, \"models_metrics_table.csv\"))"
   ]
  },
  {
   "cell_type": "code",
   "execution_count": null,
   "id": "addea9a8-f117-4c52-8a04-8e66be04e811",
   "metadata": {},
   "outputs": [],
   "source": [
    "## orgenize dataset for export"
   ]
  },
  {
   "cell_type": "code",
   "execution_count": null,
   "id": "55755b24-b0a5-4fb9-9140-3a6280f99efc",
   "metadata": {},
   "outputs": [],
   "source": [
    "comp_pathways_results = exps_dict['Combined_TNFa']\n",
    "comp_results = exps_dict['Cellular frequencies']"
   ]
  },
  {
   "cell_type": "code",
   "execution_count": null,
   "id": "800e27b7-e03b-4526-a669-7f21757bbc69",
   "metadata": {},
   "outputs": [],
   "source": [
    "full_df = pd.concat([\n",
    "    comp_pathways_results[\"X\"].drop(columns=\"NK\"),\n",
    "    comp_results[\"X\"],\n",
    "    comp_pathways_results[\"y\"],\n",
    "    comp_pathways_results[\"loocv\"][\"y_proba\"]\n",
    "]  ,axis=1)\n",
    "full_df = full_df.loc[:,~full_df.columns.duplicated()].copy()\n",
    "full_df = full_df.rename(columns={\"response_3m\": \"label {1:R, 0:NR}\", 0: \"y_pred\"}).rename(index=patient_name_map)\n",
    "full_df['B_category'] = -1 * full_df['B_category']\n",
    "full_df.columns"
   ]
  },
  {
   "cell_type": "code",
   "execution_count": null,
   "id": "aa7341f2-7b8f-49dc-babc-793e44d1f6dd",
   "metadata": {},
   "outputs": [],
   "source": [
    "wanted_columns = ['label {1:R, 0:NR}', 'y_pred', \"HALLMARK_TNFA_SIGNALING_VIA_NFKB-CD16 Mono\", 'B_category', 'B', 'CD4 T', 'CD8 T', 'Myeloid', 'NK','Tregs', 'CD14 Mono', 'CD16 Mono']\n",
    "partial_df = full_df[wanted_columns]\n",
    "partial_df"
   ]
  },
  {
   "cell_type": "code",
   "execution_count": null,
   "id": "e5ed3118-eae4-4911-98af-bbb8343f6187",
   "metadata": {},
   "outputs": [],
   "source": [
    "full_df.to_csv(Path(figures_dir, \"all_fetures_prediction_labels.csv\"))\n",
    "partial_df.to_csv(Path(figures_dir, \"partial_fetures_prediction_labels.csv\"))"
   ]
  },
  {
   "cell_type": "code",
   "execution_count": null,
   "id": "eeb8352a-53f8-403d-85d0-5d68138b2e3c",
   "metadata": {},
   "outputs": [],
   "source": []
  }
 ],
 "metadata": {
  "kernelspec": {
   "display_name": "Python 3 (ipykernel)",
   "language": "python",
   "name": "python3"
  },
  "language_info": {
   "codemirror_mode": {
    "name": "ipython",
    "version": 3
   },
   "file_extension": ".py",
   "mimetype": "text/x-python",
   "name": "python",
   "nbconvert_exporter": "python",
   "pygments_lexer": "ipython3",
   "version": "3.9.18"
  }
 },
 "nbformat": 4,
 "nbformat_minor": 5
}
