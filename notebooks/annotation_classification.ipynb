{
 "cells": [
  {
   "cell_type": "code",
   "execution_count": 1,
   "metadata": {
    "collapsed": true,
    "ExecuteTime": {
     "end_time": "2023-07-26T13:49:56.310121600Z",
     "start_time": "2023-07-26T13:49:56.286087200Z"
    }
   },
   "outputs": [
    {
     "data": {
      "text/plain": "'\\n    vaiable genes -\\n    consider genes as un-variable (\\n    pst_nr_term <- c(\"^AC[0-9]+\", \"^AL[0-9]+\", \"^AP[0-9]+\", \"^AD[0-9]+\", \"^AF[0-9]+\",\\n                 \"-AS[0-9]?$\", \"^MIR[0-9]+\", \"^LINC[0-9]+\", \"^MT\", \"^sno\", \"^ATP\",\\n                 \"^HIST\", \"^HLA-\", \"\\\\.\", \"-\")\\n    '"
     },
     "execution_count": 1,
     "metadata": {},
     "output_type": "execute_result"
    }
   ],
   "source": [
    "\"\"\"\n",
    "    vaiable genes -\n",
    "    consider genes as un-variable (\n",
    "    pst_nr_term <- c(\"^AC[0-9]+\", \"^AL[0-9]+\", \"^AP[0-9]+\", \"^AD[0-9]+\", \"^AF[0-9]+\",\n",
    "                 \"-AS[0-9]?$\", \"^MIR[0-9]+\", \"^LINC[0-9]+\", \"^MT\", \"^sno\", \"^ATP\",\n",
    "                 \"^HIST\", \"^HLA-\", \"\\\\.\", \"-\")\n",
    "    \"\"\""
   ]
  },
  {
   "cell_type": "code",
   "execution_count": null,
   "outputs": [],
   "source": [
    "adata = adata[adata.obs.pct_counts_mt < 50, :]\n",
    "sc.pp.normalize_total(adata, target_sum=1e4)\n",
    "sc.pp.log1p(adata)\n",
    "sc.pp.highly_variable_genes(adata, min_mean=0.0125, max_mean=3, min_disp=0.5)\n",
    "sc.pl.highly_variable_genes(adata)"
   ],
   "metadata": {
    "collapsed": false
   }
  },
  {
   "cell_type": "code",
   "execution_count": null,
   "outputs": [],
   "source": [
    "# ingest - PC vs other"
   ],
   "metadata": {
    "collapsed": false
   }
  },
  {
   "cell_type": "code",
   "execution_count": null,
   "outputs": [],
   "source": [
    "sc.pp.pca(adata_train)\n",
    "sc.pp.neighbors(adata_train)\n",
    "sc.tl.umap(adata_train)"
   ],
   "metadata": {
    "collapsed": false
   }
  },
  {
   "cell_type": "code",
   "execution_count": null,
   "outputs": [],
   "source": [
    "sc.pl.umap(adata_train)"
   ],
   "metadata": {
    "collapsed": false
   }
  },
  {
   "cell_type": "code",
   "execution_count": null,
   "outputs": [],
   "source": [
    "sc.tl.ingest(adata_test, adata_train, obs='cell_type')"
   ],
   "metadata": {
    "collapsed": false
   }
  }
 ],
 "metadata": {
  "kernelspec": {
   "display_name": "Python 3",
   "language": "python",
   "name": "python3"
  },
  "language_info": {
   "codemirror_mode": {
    "name": "ipython",
    "version": 2
   },
   "file_extension": ".py",
   "mimetype": "text/x-python",
   "name": "python",
   "nbconvert_exporter": "python",
   "pygments_lexer": "ipython2",
   "version": "2.7.6"
  }
 },
 "nbformat": 4,
 "nbformat_minor": 0
}
