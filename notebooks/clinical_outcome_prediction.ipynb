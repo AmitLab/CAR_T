{
 "cells": [
  {
   "cell_type": "code",
   "execution_count": 32,
   "metadata": {
    "is_executing": true
   },
   "outputs": [
    {
     "name": "stdout",
     "output_type": "stream",
     "text": [
      "The autoreload extension is already loaded. To reload it, use:\n",
      "  %reload_ext autoreload\n"
     ]
    }
   ],
   "source": [
    "%load_ext autoreload\n",
    "%autoreload 2\n",
    "import sys\n",
    "sys.path.append('/home/labs/amit/noamsh/repos/MM_2023')"
   ]
  },
  {
   "cell_type": "code",
   "execution_count": 33,
   "metadata": {
    "collapsed": false,
    "is_executing": true,
    "jupyter": {
     "outputs_hidden": false
    }
   },
   "outputs": [],
   "source": [
    "import pandas as pd\n",
    "import numpy as np\n",
    "from tqdm import tqdm\n",
    "\n",
    "import matplotlib.pyplot as plt\n",
    "from sklearn.datasets import make_classification\n",
    "from sklearn.metrics import confusion_matrix, ConfusionMatrixDisplay"
   ]
  },
  {
   "cell_type": "code",
   "execution_count": 34,
   "metadata": {},
   "outputs": [],
   "source": [
    "from clinical_predictions.clinical_data_loading import generate_refracrotines_dataset \n",
    "from clinical_predictions.utils import balanced_subsample"
   ]
  },
  {
   "cell_type": "code",
   "execution_count": 35,
   "metadata": {},
   "outputs": [],
   "source": [
    "from clinical_predictions.evaluation import train_and_eval_model, generate_datasets_summerization"
   ]
  },
  {
   "cell_type": "code",
   "execution_count": 36,
   "metadata": {},
   "outputs": [],
   "source": [
    "from functools import partial\n",
    "\n",
    "import optuna\n",
    "from sklearn.model_selection import ShuffleSplit, cross_val_score, train_test_split, cross_validate\n",
    "from xgboost import XGBClassifier\n",
    "import sklearn\n",
    "\n",
    "def objective(trial, X_train, y_train):\n",
    "\n",
    "    classifier_name = trial.suggest_categorical('classifier', ['RandomForest', 'XGBoost'])\n",
    "    if classifier_name == 'SVC':\n",
    "         svc_c = trial.suggest_float('svc_c', 1e-1, 1e3, log=True)\n",
    "         model = sklearn.svm.SVC(C=svc_c, gamma='auto')\n",
    "    elif classifier_name == 'Lasso':\n",
    "         lasso_alpha = trial.suggest_float('lasso_alpha', 1e-1, 1e3, log=True)\n",
    "         model = sklearn.linear_model.Lasso(alpha=lasso_alpha)\n",
    "    elif classifier_name == 'RandomForest':\n",
    "        rf_max_depth = trial.suggest_int('rf_max_depth', 2, 32, log=True)\n",
    "        rf_n_estimators = trial.suggest_int('rf_n_estimators', 2, 16, log=True)\n",
    "        model = sklearn.ensemble.RandomForestClassifier(max_depth=rf_max_depth, n_estimators=rf_n_estimators)\n",
    "    elif classifier_name == 'LogisticRegression':\n",
    "        logistic_regression_c = trial.suggest_float('logistic_regression_c', 1e-1, 1e3, log=True)\n",
    "        model = sklearn.linear_model.LogisticRegression(C=logistic_regression_c)\n",
    "    else:\n",
    "        param = {\n",
    "            'booster': trial.suggest_categorical('xgb_booster', ['gbtree', 'dart']),\n",
    "            'n_estimators': trial.suggest_int('xgb_n_estimators', 2, 16, log=True), \n",
    "            'max_depth': trial.suggest_int('xgb_max_depth', 1, 4), \n",
    "            # 'alpha': trial.suggest_float('alpha', 1e-8, 1.0, log=True)\n",
    "        }\n",
    "        model = XGBClassifier(**param)\n",
    "        \n",
    "    # subsample = trial.suggest_categorical('subsample', [True, False])\n",
    "    # if subsample:\n",
    "    #     subsample_indexs = balanced_subsample(y_train)\n",
    "    #     X_train = X_train.loc[subsample_indexs]\n",
    "    #     y_train = y_train.loc[subsample_indexs]\n",
    "    \n",
    "    cv = ShuffleSplit(n_splits=5, test_size=0.3, random_state=0)\n",
    "    scores = cross_validate(model, X_train, y_train, cv=cv, scoring = ['accuracy', 'precision', 'f1', 'f1_weighted', 'f1_macro'])\n",
    "    prec_alpha = 0.5\n",
    "    mean_f1_prec_score = np.mean(scores['test_f1_weighted']  + scores['test_precision'] * prec_alpha)\n",
    "    \n",
    "    trial.set_user_attr(key=\"best_booster\", value=model)\n",
    "    return mean_f1_prec_score\n",
    "\n",
    "\n",
    "def callback(study, trial):\n",
    "    if study.best_trial.number == trial.number:\n",
    "        study.set_user_attr(key=\"best_booster\", value=trial.user_attrs[\"best_booster\"])\n",
    "\n",
    "\n",
    "def get_best_model_with_optuna(X_train, y_train, n_trials=30):\n",
    "    study = optuna.create_study(direction='maximize')\n",
    "    study.optimize(partial(objective, X_train=X_train, y_train=y_train), n_trials=n_trials, callbacks=[callback])\n",
    "    best_model = study.user_attrs[\"best_booster\"]\n",
    "    best_trail = study.best_trial\n",
    "    return best_model, best_trail"
   ]
  },
  {
   "cell_type": "markdown",
   "metadata": {
    "collapsed": false,
    "jupyter": {
     "outputs_hidden": false
    }
   },
   "source": [
    "## loading"
   ]
  },
  {
   "cell_type": "code",
   "execution_count": 37,
   "metadata": {
    "ExecuteTime": {
     "end_time": "2023-11-30T14:16:40.637199400Z",
     "start_time": "2023-11-30T14:16:40.626192100Z"
    },
    "collapsed": false,
    "jupyter": {
     "outputs_hidden": false
    }
   },
   "outputs": [],
   "source": [
    "dataset_path = '/home/labs/amit/noamsh/repos/MM_2023/notebooks/tmp_data/zstat_MARS_SPID_20231130/MARS_SPID_exp_clin_nmf.xlsx'\n",
    "raw_hospital_path = '/home/labs/amit/noamsh/repos/MM_2023/notebooks/tmp_data/zstat_MARS_SPID_20231130/Annonymized_CRF_BP_14112023S_SYW.xlsx'"
   ]
  },
  {
   "cell_type": "code",
   "execution_count": 38,
   "metadata": {
    "ExecuteTime": {
     "end_time": "2023-11-30T14:16:43.387729600Z",
     "start_time": "2023-11-30T14:16:41.931863800Z"
    },
    "collapsed": false,
    "jupyter": {
     "outputs_hidden": false
    }
   },
   "outputs": [
    {
     "name": "stderr",
     "output_type": "stream",
     "text": [
      "Workbook contains no default style, apply openpyxl's default\n"
     ]
    },
    {
     "name": "stdout",
     "output_type": "stream",
     "text": [
      "(262, 539)\n"
     ]
    }
   ],
   "source": [
    "raw_dataset = pd.read_excel(dataset_path)\n",
    "raw_hospital_dataset = pd.read_excel(raw_hospital_path)\n",
    "print(raw_dataset.shape)\n",
    "# raw_dataset.head()"
   ]
  },
  {
   "cell_type": "code",
   "execution_count": 39,
   "metadata": {},
   "outputs": [
    {
     "name": "stdout",
     "output_type": "stream",
     "text": [
      "(211, 111)\n"
     ]
    }
   ],
   "source": [
    "print(raw_hospital_dataset.shape)\n",
    "# raw_hospital_dataset.head()"
   ]
  },
  {
   "cell_type": "markdown",
   "metadata": {
    "collapsed": false,
    "jupyter": {
     "outputs_hidden": false
    }
   },
   "source": [
    "## general data filter"
   ]
  },
  {
   "cell_type": "code",
   "execution_count": 40,
   "metadata": {},
   "outputs": [],
   "source": [
    "from clinical_predictions.clinical_data_loading import merge_transcriptom_data_to_raw_hospital\n",
    "\n",
    "# remove no-transcriptom patients\n",
    "# add post treatment columns from hospital\n",
    "# add data to TAL_3 patients\n",
    "\n",
    "dataset = merge_transcriptom_data_to_raw_hospital(raw_dataset, raw_hospital_dataset)"
   ]
  },
  {
   "cell_type": "code",
   "execution_count": 41,
   "metadata": {},
   "outputs": [],
   "source": [
    "# path = '/home/labs/amit/noamsh/repos/MM_2023/notebooks/tmp_data/zstat_MARS_SPID_20231130/MARS_SPID_merged_with_hospital_231203.xlsx'\n",
    "# dataset.to_excel(path)"
   ]
  },
  {
   "cell_type": "markdown",
   "metadata": {},
   "source": [
    "### features selection"
   ]
  },
  {
   "cell_type": "code",
   "execution_count": 42,
   "metadata": {},
   "outputs": [
    {
     "name": "stdout",
     "output_type": "stream",
     "text": [
      "(211, 111)\n"
     ]
    },
    {
     "data": {
      "text/html": [
       "<div>\n",
       "<style scoped>\n",
       "    .dataframe tbody tr th:only-of-type {\n",
       "        vertical-align: middle;\n",
       "    }\n",
       "\n",
       "    .dataframe tbody tr th {\n",
       "        vertical-align: top;\n",
       "    }\n",
       "\n",
       "    .dataframe thead th {\n",
       "        text-align: right;\n",
       "    }\n",
       "</style>\n",
       "<table border=\"1\" class=\"dataframe\">\n",
       "  <thead>\n",
       "    <tr style=\"text-align: right;\">\n",
       "      <th></th>\n",
       "      <th>1q21+</th>\n",
       "      <th>del(1p)</th>\n",
       "      <th>del(13q)</th>\n",
       "      <th>del(17p)</th>\n",
       "      <th>t(11:14)</th>\n",
       "      <th>t(4:14)</th>\n",
       "      <th>t(14:16)</th>\n",
       "      <th>t(14:20)</th>\n",
       "      <th>IGH rearrangement</th>\n",
       "      <th>Cytogenetics Risk (0=standard risk, 1=single hit, 2=2+ hits)</th>\n",
       "    </tr>\n",
       "  </thead>\n",
       "  <tbody>\n",
       "    <tr>\n",
       "      <th>-1.0</th>\n",
       "      <td>54.0</td>\n",
       "      <td>55.0</td>\n",
       "      <td>57.0</td>\n",
       "      <td>54.0</td>\n",
       "      <td>53.0</td>\n",
       "      <td>54.0</td>\n",
       "      <td>56.0</td>\n",
       "      <td>59.0</td>\n",
       "      <td>59.0</td>\n",
       "      <td>59.0</td>\n",
       "    </tr>\n",
       "    <tr>\n",
       "      <th>1.0</th>\n",
       "      <td>41.0</td>\n",
       "      <td>13.0</td>\n",
       "      <td>17.0</td>\n",
       "      <td>21.0</td>\n",
       "      <td>25.0</td>\n",
       "      <td>7.0</td>\n",
       "      <td>3.0</td>\n",
       "      <td>1.0</td>\n",
       "      <td>20.0</td>\n",
       "      <td>26.0</td>\n",
       "    </tr>\n",
       "    <tr>\n",
       "      <th>0.0</th>\n",
       "      <td>40.0</td>\n",
       "      <td>67.0</td>\n",
       "      <td>61.0</td>\n",
       "      <td>60.0</td>\n",
       "      <td>57.0</td>\n",
       "      <td>74.0</td>\n",
       "      <td>76.0</td>\n",
       "      <td>75.0</td>\n",
       "      <td>56.0</td>\n",
       "      <td>NaN</td>\n",
       "    </tr>\n",
       "    <tr>\n",
       "      <th>2.0</th>\n",
       "      <td>NaN</td>\n",
       "      <td>NaN</td>\n",
       "      <td>NaN</td>\n",
       "      <td>NaN</td>\n",
       "      <td>NaN</td>\n",
       "      <td>NaN</td>\n",
       "      <td>NaN</td>\n",
       "      <td>NaN</td>\n",
       "      <td>NaN</td>\n",
       "      <td>36.0</td>\n",
       "    </tr>\n",
       "    <tr>\n",
       "      <th>3.0</th>\n",
       "      <td>NaN</td>\n",
       "      <td>NaN</td>\n",
       "      <td>NaN</td>\n",
       "      <td>NaN</td>\n",
       "      <td>NaN</td>\n",
       "      <td>NaN</td>\n",
       "      <td>NaN</td>\n",
       "      <td>NaN</td>\n",
       "      <td>NaN</td>\n",
       "      <td>14.0</td>\n",
       "    </tr>\n",
       "  </tbody>\n",
       "</table>\n",
       "</div>"
      ],
      "text/plain": [
       "      1q21+  del(1p)  del(13q)  del(17p)  t(11:14)  t(4:14)  t(14:16)  \\\n",
       "-1.0   54.0     55.0      57.0      54.0      53.0     54.0      56.0   \n",
       " 1.0   41.0     13.0      17.0      21.0      25.0      7.0       3.0   \n",
       " 0.0   40.0     67.0      61.0      60.0      57.0     74.0      76.0   \n",
       " 2.0    NaN      NaN       NaN       NaN       NaN      NaN       NaN   \n",
       " 3.0    NaN      NaN       NaN       NaN       NaN      NaN       NaN   \n",
       "\n",
       "      t(14:20)  IGH rearrangement  \\\n",
       "-1.0      59.0               59.0   \n",
       " 1.0       1.0               20.0   \n",
       " 0.0      75.0               56.0   \n",
       " 2.0       NaN                NaN   \n",
       " 3.0       NaN                NaN   \n",
       "\n",
       "      Cytogenetics Risk (0=standard risk, 1=single hit, 2=2+ hits)  \n",
       "-1.0                                               59.0             \n",
       " 1.0                                               26.0             \n",
       " 0.0                                                NaN             \n",
       " 2.0                                               36.0             \n",
       " 3.0                                               14.0             "
      ]
     },
     "execution_count": 42,
     "metadata": {},
     "output_type": "execute_result"
    }
   ],
   "source": [
    "fish_cols = [col for col in raw_hospital_dataset.columns if \"t(\" in col or \"del(\" in col or col in ['1q21+', 'IGH rearrangement', 'Cytogenetics Risk (0=standard risk, 1=single hit, 2=2+ hits)']]\n",
    "print(raw_hospital_dataset.shape)\n",
    "dataset[fish_cols] = dataset[fish_cols].fillna(-1)\n",
    "pd.concat([dataset[fish_col].value_counts().rename(fish_col) for fish_col in fish_cols], axis=1)\n"
   ]
  },
  {
   "cell_type": "code",
   "execution_count": 43,
   "metadata": {
    "ExecuteTime": {
     "end_time": "2023-11-30T14:16:49.442377Z",
     "start_time": "2023-11-30T14:16:49.436371200Z"
    },
    "collapsed": false,
    "jupyter": {
     "outputs_hidden": false
    }
   },
   "outputs": [],
   "source": [
    "nmf_features = [f\"X{i + 1}\" for i in range(6)]\n",
    "npc_composition = [\"B\", \"B_Pro\", \"DC\", \"DC_IRF8\", \"Erythrocytes\", \"Fibro\", \"Mast\", \"Mf\", \"Mo\", \"Mo_CD16\", \"Neu_Pro\",\n",
    "                   \"NK\", \"pDC\", \"T_Effector\", \"T_Effector_GZMB\", \"T_Naive\", \"UN\"]\n",
    "fish_cols = [col for col in raw_hospital_dataset.columns if \"t(11:14)\" == col or \"del(\" in col or col in ['1q21+', 'IGH rearrangement', 'Cytogenetics Risk (0=standard risk, 1=single hit, 2=2+ hits)']]\n",
    "\n",
    "feats = nmf_features # + fish_cols\n",
    "# feats = fish_cols"
   ]
  },
  {
   "cell_type": "markdown",
   "metadata": {},
   "source": [
    "### label selection"
   ]
  },
  {
   "cell_type": "code",
   "execution_count": 44,
   "metadata": {
    "ExecuteTime": {
     "end_time": "2023-11-30T14:16:54.976405Z",
     "start_time": "2023-11-30T14:16:54.966404300Z"
    },
    "collapsed": false,
    "jupyter": {
     "outputs_hidden": false
    }
   },
   "outputs": [],
   "source": [
    "datasets = {}\n",
    "for treatment in [\"Carfilzomib\", \"Lenalidomide\", \"Pomalidomide\", \"DARA\", \"CART\", \"Bortezomib\", \"Belantamab\"]:\n",
    "\n",
    "    # if treatment == \"CART\":\n",
    "    #     non_ref_policy = \"NDMM-POST_TREATMENT_REF\"\n",
    "    # else:\n",
    "    #     non_ref_policy = \"NDMM\"\n",
    "\n",
    "    non_ref_policy = \"NON_EXPOSED\"\n",
    "\n",
    "    X,y = generate_refracrotines_dataset(dataset, treatment, non_ref_policy, feats)\n",
    "    \n",
    "    datasets[treatment] = (X, y)"
   ]
  },
  {
   "cell_type": "code",
   "execution_count": 45,
   "metadata": {},
   "outputs": [],
   "source": [
    "for group in [\"Triple.Ref\" ,\"Triple.Exp\" ,\"Penta.Ref\" ,\"Penta.Exp\" ,\"IMiD.Resistance.Len.Pom.Thali\" ,\"PI.Resistance.Bort.Carf.Ixa\" ]:\n",
    "    dataset_copy = dataset.copy()\n",
    "    mask = ~ dataset_copy[group].isna()\n",
    "    X = dataset_copy[mask][feats]\n",
    "    y = dataset_copy[mask][group] == 1\n",
    "    y = y.astype(int)\n",
    "\n",
    "    datasets[group] = (X, y)"
   ]
  },
  {
   "cell_type": "code",
   "execution_count": 46,
   "metadata": {
    "collapsed": false,
    "is_executing": true,
    "jupyter": {
     "outputs_hidden": false
    }
   },
   "outputs": [
    {
     "data": {
      "text/html": [
       "<div>\n",
       "<style scoped>\n",
       "    .dataframe tbody tr th:only-of-type {\n",
       "        vertical-align: middle;\n",
       "    }\n",
       "\n",
       "    .dataframe tbody tr th {\n",
       "        vertical-align: top;\n",
       "    }\n",
       "\n",
       "    .dataframe thead th {\n",
       "        text-align: right;\n",
       "    }\n",
       "</style>\n",
       "<table border=\"1\" class=\"dataframe\">\n",
       "  <thead>\n",
       "    <tr style=\"text-align: right;\">\n",
       "      <th></th>\n",
       "      <th>Carfilzomib</th>\n",
       "      <th>Lenalidomide</th>\n",
       "      <th>Pomalidomide</th>\n",
       "      <th>DARA</th>\n",
       "      <th>CART</th>\n",
       "      <th>Bortezomib</th>\n",
       "      <th>Belantamab</th>\n",
       "      <th>Triple.Ref</th>\n",
       "      <th>Triple.Exp</th>\n",
       "      <th>Penta.Ref</th>\n",
       "      <th>Penta.Exp</th>\n",
       "      <th>IMiD.Resistance.Len.Pom.Thali</th>\n",
       "      <th>PI.Resistance.Bort.Carf.Ixa</th>\n",
       "    </tr>\n",
       "  </thead>\n",
       "  <tbody>\n",
       "    <tr>\n",
       "      <th>0</th>\n",
       "      <td>115</td>\n",
       "      <td>71</td>\n",
       "      <td>103</td>\n",
       "      <td>93</td>\n",
       "      <td>134</td>\n",
       "      <td>55</td>\n",
       "      <td>127</td>\n",
       "      <td>82</td>\n",
       "      <td>71</td>\n",
       "      <td>105</td>\n",
       "      <td>95</td>\n",
       "      <td>63</td>\n",
       "      <td>55</td>\n",
       "    </tr>\n",
       "    <tr>\n",
       "      <th>1</th>\n",
       "      <td>20</td>\n",
       "      <td>60</td>\n",
       "      <td>31</td>\n",
       "      <td>46</td>\n",
       "      <td>3</td>\n",
       "      <td>51</td>\n",
       "      <td>7</td>\n",
       "      <td>28</td>\n",
       "      <td>39</td>\n",
       "      <td>5</td>\n",
       "      <td>15</td>\n",
       "      <td>47</td>\n",
       "      <td>55</td>\n",
       "    </tr>\n",
       "  </tbody>\n",
       "</table>\n",
       "</div>"
      ],
      "text/plain": [
       "   Carfilzomib  Lenalidomide  Pomalidomide  DARA  CART  Bortezomib  \\\n",
       "0          115            71           103    93   134          55   \n",
       "1           20            60            31    46     3          51   \n",
       "\n",
       "   Belantamab  Triple.Ref  Triple.Exp  Penta.Ref  Penta.Exp  \\\n",
       "0         127          82          71        105         95   \n",
       "1           7          28          39          5         15   \n",
       "\n",
       "   IMiD.Resistance.Len.Pom.Thali  PI.Resistance.Bort.Carf.Ixa  \n",
       "0                             63                           55  \n",
       "1                             47                           55  "
      ]
     },
     "execution_count": 46,
     "metadata": {},
     "output_type": "execute_result"
    }
   ],
   "source": [
    "pd.concat([y.value_counts().rename(treatment) for treatment, (_, y) in datasets.items()], axis=1)"
   ]
  },
  {
   "cell_type": "code",
   "execution_count": 47,
   "metadata": {},
   "outputs": [],
   "source": [
    "good_treatments_data_sets = [\"Bortezomib\", \"Lenalidomide\", \"Carfilzomib\", \"DARA\", \"Pomalidomide\"] + [\"Triple.Ref\", \"IMiD.Resistance.Len.Pom.Thali\" ,\"PI.Resistance.Bort.Carf.Ixa\" ]"
   ]
  },
  {
   "cell_type": "markdown",
   "metadata": {},
   "source": [
    "## model training"
   ]
  },
  {
   "cell_type": "code",
   "execution_count": 48,
   "metadata": {},
   "outputs": [],
   "source": [
    "from sklearn.model_selection import train_test_split, GridSearchCV\n",
    "\n",
    "good_splited_datasets = {}\n",
    "\n",
    "for treatment in good_treatments_data_sets:\n",
    "    X, y = datasets[treatment]\n",
    "    X_train, X_test, y_train, y_test = train_test_split(X, y, test_size=0.3, random_state=42)\n",
    "    good_splited_datasets[treatment] = X_train, X_test, y_train, y_test\n"
   ]
  },
  {
   "cell_type": "code",
   "execution_count": 49,
   "metadata": {},
   "outputs": [
    {
     "data": {
      "text/html": [
       "<div>\n",
       "<style scoped>\n",
       "    .dataframe tbody tr th:only-of-type {\n",
       "        vertical-align: middle;\n",
       "    }\n",
       "\n",
       "    .dataframe tbody tr th {\n",
       "        vertical-align: top;\n",
       "    }\n",
       "\n",
       "    .dataframe thead th {\n",
       "        text-align: right;\n",
       "    }\n",
       "</style>\n",
       "<table border=\"1\" class=\"dataframe\">\n",
       "  <thead>\n",
       "    <tr style=\"text-align: right;\">\n",
       "      <th></th>\n",
       "      <th>Bortezomib</th>\n",
       "      <th>Lenalidomide</th>\n",
       "      <th>Carfilzomib</th>\n",
       "      <th>DARA</th>\n",
       "      <th>Pomalidomide</th>\n",
       "      <th>Triple.Ref</th>\n",
       "      <th>IMiD.Resistance.Len.Pom.Thali</th>\n",
       "      <th>PI.Resistance.Bort.Carf.Ixa</th>\n",
       "    </tr>\n",
       "  </thead>\n",
       "  <tbody>\n",
       "    <tr>\n",
       "      <th>1</th>\n",
       "      <td>17</td>\n",
       "      <td>21</td>\n",
       "      <td>9</td>\n",
       "      <td>15</td>\n",
       "      <td>12</td>\n",
       "      <td>7</td>\n",
       "      <td>11</td>\n",
       "      <td>12</td>\n",
       "    </tr>\n",
       "    <tr>\n",
       "      <th>0</th>\n",
       "      <td>15</td>\n",
       "      <td>19</td>\n",
       "      <td>32</td>\n",
       "      <td>27</td>\n",
       "      <td>29</td>\n",
       "      <td>26</td>\n",
       "      <td>22</td>\n",
       "      <td>21</td>\n",
       "    </tr>\n",
       "  </tbody>\n",
       "</table>\n",
       "</div>"
      ],
      "text/plain": [
       "   Bortezomib  Lenalidomide  Carfilzomib  DARA  Pomalidomide  Triple.Ref  \\\n",
       "1          17            21            9    15            12           7   \n",
       "0          15            19           32    27            29          26   \n",
       "\n",
       "   IMiD.Resistance.Len.Pom.Thali  PI.Resistance.Bort.Carf.Ixa  \n",
       "1                             11                           12  \n",
       "0                             22                           21  "
      ]
     },
     "execution_count": 49,
     "metadata": {},
     "output_type": "execute_result"
    }
   ],
   "source": [
    "pd.concat([y_test.value_counts().rename(treatment) for treatment , (_, _, _, y_test) in good_splited_datasets.items()], axis=1)"
   ]
  },
  {
   "cell_type": "code",
   "execution_count": null,
   "metadata": {
    "collapsed": false,
    "is_executing": true,
    "jupyter": {
     "outputs_hidden": false
    },
    "scrolled": true
   },
   "outputs": [
    {
     "name": "stderr",
     "output_type": "stream",
     "text": [
      "  0%|          | 0/8 [00:00<?, ?it/s]\u001b[32m[I 2023-12-05 14:26:31,114]\u001b[0m A new study created in memory with name: no-name-3ad01f93-0cc2-4f43-8204-c50427ea9cd6\u001b[0m\n",
      "\u001b[32m[I 2023-12-05 14:26:31,181]\u001b[0m Trial 0 finished with value: 0.8286333965465144 and parameters: {'classifier': 'RandomForest', 'rf_max_depth': 6, 'rf_n_estimators': 8}. Best is trial 0 with value: 0.8286333965465144.\u001b[0m\n",
      "\u001b[32m[I 2023-12-05 14:26:31,244]\u001b[0m Trial 1 finished with value: 0.8595381221509116 and parameters: {'classifier': 'RandomForest', 'rf_max_depth': 9, 'rf_n_estimators': 8}. Best is trial 1 with value: 0.8595381221509116.\u001b[0m\n",
      "\u001b[32m[I 2023-12-05 14:26:31,286]\u001b[0m Trial 2 finished with value: 0.7755138224348751 and parameters: {'classifier': 'RandomForest', 'rf_max_depth': 14, 'rf_n_estimators': 3}. Best is trial 1 with value: 0.8595381221509116.\u001b[0m\n",
      "\u001b[32m[I 2023-12-05 14:26:31,366]\u001b[0m Trial 3 finished with value: 0.920029870083166 and parameters: {'classifier': 'RandomForest', 'rf_max_depth': 3, 'rf_n_estimators': 12}. Best is trial 3 with value: 0.920029870083166.\u001b[0m\n",
      "\u001b[32m[I 2023-12-05 14:26:31,456]\u001b[0m Trial 4 finished with value: 0.8432710884799908 and parameters: {'classifier': 'RandomForest', 'rf_max_depth': 32, 'rf_n_estimators': 14}. Best is trial 3 with value: 0.920029870083166.\u001b[0m\n",
      "\u001b[32m[I 2023-12-05 14:26:31,520]\u001b[0m Trial 5 finished with value: 0.7732852464088162 and parameters: {'classifier': 'RandomForest', 'rf_max_depth': 5, 'rf_n_estimators': 8}. Best is trial 3 with value: 0.920029870083166.\u001b[0m\n",
      "\u001b[32m[I 2023-12-05 14:26:31,583]\u001b[0m Trial 6 finished with value: 0.9810303310329603 and parameters: {'classifier': 'RandomForest', 'rf_max_depth': 8, 'rf_n_estimators': 8}. Best is trial 6 with value: 0.9810303310329603.\u001b[0m\n",
      "\u001b[32m[I 2023-12-05 14:26:31,675]\u001b[0m Trial 7 finished with value: 0.8626513978110726 and parameters: {'classifier': 'RandomForest', 'rf_max_depth': 7, 'rf_n_estimators': 14}. Best is trial 6 with value: 0.9810303310329603.\u001b[0m\n",
      "\u001b[32m[I 2023-12-05 14:26:31,712]\u001b[0m Trial 8 finished with value: 0.6289355322338831 and parameters: {'classifier': 'RandomForest', 'rf_max_depth': 8, 'rf_n_estimators': 2}. Best is trial 6 with value: 0.9810303310329603.\u001b[0m\n",
      "\u001b[32m[I 2023-12-05 14:26:31,775]\u001b[0m Trial 9 finished with value: 0.8617561181508548 and parameters: {'classifier': 'RandomForest', 'rf_max_depth': 20, 'rf_n_estimators': 8}. Best is trial 6 with value: 0.9810303310329603.\u001b[0m\n",
      "\u001b[32m[I 2023-12-05 14:26:32,455]\u001b[0m Trial 10 finished with value: 0.8499182460052026 and parameters: {'classifier': 'XGBoost', 'xgb_booster': 'gbtree', 'xgb_n_estimators': 7, 'xgb_max_depth': 3}. Best is trial 6 with value: 0.9810303310329603.\u001b[0m\n",
      "\u001b[32m[I 2023-12-05 14:26:33,661]\u001b[0m Trial 11 finished with value: 0.7657080948321358 and parameters: {'classifier': 'XGBoost', 'xgb_booster': 'dart', 'xgb_n_estimators': 2, 'xgb_max_depth': 1}. Best is trial 6 with value: 0.9810303310329603.\u001b[0m\n",
      "\u001b[32m[I 2023-12-05 14:26:34,059]\u001b[0m Trial 12 finished with value: 0.8320530001399564 and parameters: {'classifier': 'XGBoost', 'xgb_booster': 'gbtree', 'xgb_n_estimators': 15, 'xgb_max_depth': 4}. Best is trial 6 with value: 0.9810303310329603.\u001b[0m\n",
      "\u001b[32m[I 2023-12-05 14:26:34,120]\u001b[0m Trial 13 finished with value: 0.7332493237988246 and parameters: {'classifier': 'RandomForest', 'rf_max_depth': 2, 'rf_n_estimators': 4}. Best is trial 6 with value: 0.9810303310329603.\u001b[0m\n",
      "\u001b[32m[I 2023-12-05 14:26:34,206]\u001b[0m Trial 14 finished with value: 0.7693971627118057 and parameters: {'classifier': 'RandomForest', 'rf_max_depth': 3, 'rf_n_estimators': 12}. Best is trial 6 with value: 0.9810303310329603.\u001b[0m\n",
      "\u001b[32m[I 2023-12-05 14:26:34,294]\u001b[0m Trial 15 finished with value: 0.7853342309864049 and parameters: {'classifier': 'XGBoost', 'xgb_booster': 'dart', 'xgb_n_estimators': 3, 'xgb_max_depth': 1}. Best is trial 6 with value: 0.9810303310329603.\u001b[0m\n",
      "\u001b[32m[I 2023-12-05 14:26:34,346]\u001b[0m Trial 16 finished with value: 0.7808156979424681 and parameters: {'classifier': 'RandomForest', 'rf_max_depth': 3, 'rf_n_estimators': 5}. Best is trial 6 with value: 0.9810303310329603.\u001b[0m\n",
      "\u001b[32m[I 2023-12-05 14:26:34,402]\u001b[0m Trial 17 finished with value: 0.8509152210245781 and parameters: {'classifier': 'RandomForest', 'rf_max_depth': 4, 'rf_n_estimators': 6}. Best is trial 6 with value: 0.9810303310329603.\u001b[0m\n",
      "\u001b[32m[I 2023-12-05 14:26:34,526]\u001b[0m Trial 18 finished with value: 0.7931217932500882 and parameters: {'classifier': 'XGBoost', 'xgb_booster': 'dart', 'xgb_n_estimators': 7, 'xgb_max_depth': 4}. Best is trial 6 with value: 0.9810303310329603.\u001b[0m\n",
      "\u001b[32m[I 2023-12-05 14:26:34,606]\u001b[0m Trial 19 finished with value: 0.8234349212122328 and parameters: {'classifier': 'RandomForest', 'rf_max_depth': 2, 'rf_n_estimators': 11}. Best is trial 6 with value: 0.9810303310329603.\u001b[0m\n",
      "\u001b[32m[I 2023-12-05 14:26:34,709]\u001b[0m Trial 20 finished with value: 0.8702508080626569 and parameters: {'classifier': 'RandomForest', 'rf_max_depth': 13, 'rf_n_estimators': 16}. Best is trial 6 with value: 0.9810303310329603.\u001b[0m\n",
      "\u001b[32m[I 2023-12-05 14:26:34,816]\u001b[0m Trial 21 finished with value: 0.8468360309913798 and parameters: {'classifier': 'RandomForest', 'rf_max_depth': 13, 'rf_n_estimators': 16}. Best is trial 6 with value: 0.9810303310329603.\u001b[0m\n",
      "\u001b[32m[I 2023-12-05 14:26:34,891]\u001b[0m Trial 22 finished with value: 0.9135655453893395 and parameters: {'classifier': 'RandomForest', 'rf_max_depth': 13, 'rf_n_estimators': 10}. Best is trial 6 with value: 0.9810303310329603.\u001b[0m\n",
      "\u001b[32m[I 2023-12-05 14:26:34,967]\u001b[0m Trial 23 finished with value: 0.7733002365000335 and parameters: {'classifier': 'RandomForest', 'rf_max_depth': 11, 'rf_n_estimators': 10}. Best is trial 6 with value: 0.9810303310329603.\u001b[0m\n",
      "\u001b[32m[I 2023-12-05 14:26:35,024]\u001b[0m Trial 24 finished with value: 0.7791153303391549 and parameters: {'classifier': 'RandomForest', 'rf_max_depth': 18, 'rf_n_estimators': 6}. Best is trial 6 with value: 0.9810303310329603.\u001b[0m\n",
      " 12%|█▎        | 1/8 [00:03<00:27,  3.93s/it]\u001b[32m[I 2023-12-05 14:26:35,041]\u001b[0m A new study created in memory with name: no-name-65907739-58fc-4586-a748-e09b59384b9b\u001b[0m\n",
      "Precision is ill-defined and being set to 0.0 due to no predicted samples. Use `zero_division` parameter to control this behavior.\n",
      "\u001b[32m[I 2023-12-05 14:26:35,127]\u001b[0m Trial 0 finished with value: 0.5066368395103792 and parameters: {'classifier': 'XGBoost', 'xgb_booster': 'gbtree', 'xgb_n_estimators': 6, 'xgb_max_depth': 1}. Best is trial 0 with value: 0.5066368395103792.\u001b[0m\n",
      "\u001b[32m[I 2023-12-05 14:26:35,272]\u001b[0m Trial 1 finished with value: 0.6959298871063578 and parameters: {'classifier': 'XGBoost', 'xgb_booster': 'dart', 'xgb_n_estimators': 11, 'xgb_max_depth': 3}. Best is trial 1 with value: 0.6959298871063578.\u001b[0m\n",
      "\u001b[32m[I 2023-12-05 14:26:35,354]\u001b[0m Trial 2 finished with value: 0.675325598039815 and parameters: {'classifier': 'RandomForest', 'rf_max_depth': 2, 'rf_n_estimators': 12}. Best is trial 1 with value: 0.6959298871063578.\u001b[0m\n",
      "\u001b[32m[I 2023-12-05 14:26:35,397]\u001b[0m Trial 3 finished with value: 0.6550370937848824 and parameters: {'classifier': 'RandomForest', 'rf_max_depth': 13, 'rf_n_estimators': 3}. Best is trial 1 with value: 0.6959298871063578.\u001b[0m\n",
      "\u001b[32m[I 2023-12-05 14:26:35,477]\u001b[0m Trial 4 finished with value: 0.6454592749142394 and parameters: {'classifier': 'XGBoost', 'xgb_booster': 'gbtree', 'xgb_n_estimators': 2, 'xgb_max_depth': 2}. Best is trial 1 with value: 0.6959298871063578.\u001b[0m\n",
      "\u001b[32m[I 2023-12-05 14:26:35,515]\u001b[0m Trial 5 finished with value: 0.6540834117417809 and parameters: {'classifier': 'RandomForest', 'rf_max_depth': 2, 'rf_n_estimators': 2}. Best is trial 1 with value: 0.6959298871063578.\u001b[0m\n",
      "\u001b[32m[I 2023-12-05 14:26:35,603]\u001b[0m Trial 6 finished with value: 0.7338349264642939 and parameters: {'classifier': 'XGBoost', 'xgb_booster': 'gbtree', 'xgb_n_estimators': 3, 'xgb_max_depth': 4}. Best is trial 6 with value: 0.7338349264642939.\u001b[0m\n",
      "\u001b[32m[I 2023-12-05 14:26:35,714]\u001b[0m Trial 7 finished with value: 0.72020063288942 and parameters: {'classifier': 'XGBoost', 'xgb_booster': 'gbtree', 'xgb_n_estimators': 8, 'xgb_max_depth': 4}. Best is trial 6 with value: 0.7338349264642939.\u001b[0m\n",
      "\u001b[32m[I 2023-12-05 14:26:35,811]\u001b[0m Trial 8 finished with value: 0.6311964785914366 and parameters: {'classifier': 'XGBoost', 'xgb_booster': 'gbtree', 'xgb_n_estimators': 13, 'xgb_max_depth': 1}. Best is trial 6 with value: 0.7338349264642939.\u001b[0m\n",
      "\u001b[32m[I 2023-12-05 14:26:35,860]\u001b[0m Trial 9 finished with value: 0.6247879235426227 and parameters: {'classifier': 'RandomForest', 'rf_max_depth': 27, 'rf_n_estimators': 4}. Best is trial 6 with value: 0.7338349264642939.\u001b[0m\n",
      "\u001b[32m[I 2023-12-05 14:26:35,948]\u001b[0m Trial 10 finished with value: 0.6278568710921653 and parameters: {'classifier': 'XGBoost', 'xgb_booster': 'dart', 'xgb_n_estimators': 2, 'xgb_max_depth': 4}. Best is trial 6 with value: 0.7338349264642939.\u001b[0m\n",
      "\u001b[32m[I 2023-12-05 14:26:36,047]\u001b[0m Trial 11 finished with value: 0.7052287182069357 and parameters: {'classifier': 'XGBoost', 'xgb_booster': 'gbtree', 'xgb_n_estimators': 4, 'xgb_max_depth': 4}. Best is trial 6 with value: 0.7338349264642939.\u001b[0m\n",
      "\u001b[32m[I 2023-12-05 14:26:36,158]\u001b[0m Trial 12 finished with value: 0.6615564584317348 and parameters: {'classifier': 'XGBoost', 'xgb_booster': 'gbtree', 'xgb_n_estimators': 5, 'xgb_max_depth': 4}. Best is trial 6 with value: 0.7338349264642939.\u001b[0m\n",
      "\u001b[32m[I 2023-12-05 14:26:36,258]\u001b[0m Trial 13 finished with value: 0.6379490648796267 and parameters: {'classifier': 'XGBoost', 'xgb_booster': 'gbtree', 'xgb_n_estimators': 3, 'xgb_max_depth': 3}. Best is trial 6 with value: 0.7338349264642939.\u001b[0m\n",
      "\u001b[32m[I 2023-12-05 14:26:36,359]\u001b[0m Trial 14 finished with value: 0.7461410766297984 and parameters: {'classifier': 'XGBoost', 'xgb_booster': 'gbtree', 'xgb_n_estimators': 7, 'xgb_max_depth': 3}. Best is trial 14 with value: 0.7461410766297984.\u001b[0m\n",
      "\u001b[32m[I 2023-12-05 14:26:36,454]\u001b[0m Trial 15 finished with value: 0.6379490648796267 and parameters: {'classifier': 'XGBoost', 'xgb_booster': 'dart', 'xgb_n_estimators': 3, 'xgb_max_depth': 3}. Best is trial 14 with value: 0.7461410766297984.\u001b[0m\n",
      "\u001b[32m[I 2023-12-05 14:26:36,552]\u001b[0m Trial 16 finished with value: 0.5770263196446301 and parameters: {'classifier': 'XGBoost', 'xgb_booster': 'gbtree', 'xgb_n_estimators': 8, 'xgb_max_depth': 2}. Best is trial 14 with value: 0.7461410766297984.\u001b[0m\n",
      "\u001b[32m[I 2023-12-05 14:26:36,669]\u001b[0m Trial 17 finished with value: 0.6379490648796267 and parameters: {'classifier': 'XGBoost', 'xgb_booster': 'gbtree', 'xgb_n_estimators': 3, 'xgb_max_depth': 3}. Best is trial 14 with value: 0.7461410766297984.\u001b[0m\n",
      "\u001b[32m[I 2023-12-05 14:26:36,759]\u001b[0m Trial 18 finished with value: 0.9003806339348703 and parameters: {'classifier': 'RandomForest', 'rf_max_depth': 5, 'rf_n_estimators': 11}. Best is trial 18 with value: 0.9003806339348703.\u001b[0m\n",
      "\u001b[32m[I 2023-12-05 14:26:36,853]\u001b[0m Trial 19 finished with value: 0.7617656719204706 and parameters: {'classifier': 'RandomForest', 'rf_max_depth': 6, 'rf_n_estimators': 13}. Best is trial 18 with value: 0.9003806339348703.\u001b[0m\n",
      "\u001b[32m[I 2023-12-05 14:26:36,949]\u001b[0m Trial 20 finished with value: 0.7268901727357611 and parameters: {'classifier': 'RandomForest', 'rf_max_depth': 6, 'rf_n_estimators': 14}. Best is trial 18 with value: 0.9003806339348703.\u001b[0m\n",
      "\u001b[32m[I 2023-12-05 14:26:37,021]\u001b[0m Trial 21 finished with value: 0.791008818802512 and parameters: {'classifier': 'RandomForest', 'rf_max_depth': 6, 'rf_n_estimators': 9}. Best is trial 18 with value: 0.9003806339348703.\u001b[0m\n",
      "\u001b[32m[I 2023-12-05 14:26:37,088]\u001b[0m Trial 22 finished with value: 0.6997053143654561 and parameters: {'classifier': 'RandomForest', 'rf_max_depth': 5, 'rf_n_estimators': 8}. Best is trial 18 with value: 0.9003806339348703.\u001b[0m\n",
      "\u001b[32m[I 2023-12-05 14:26:37,157]\u001b[0m Trial 23 finished with value: 0.6896926664568374 and parameters: {'classifier': 'RandomForest', 'rf_max_depth': 5, 'rf_n_estimators': 8}. Best is trial 18 with value: 0.9003806339348703.\u001b[0m\n",
      "\u001b[32m[I 2023-12-05 14:26:37,230]\u001b[0m Trial 24 finished with value: 0.7820038730741959 and parameters: {'classifier': 'RandomForest', 'rf_max_depth': 9, 'rf_n_estimators': 9}. Best is trial 18 with value: 0.9003806339348703.\u001b[0m\n",
      " 25%|██▌       | 2/8 [00:06<00:17,  2.92s/it]\u001b[32m[I 2023-12-05 14:26:37,250]\u001b[0m A new study created in memory with name: no-name-8d97c8dc-2220-4a0b-a761-49de0eb39b48\u001b[0m\n",
      "Precision is ill-defined and being set to 0.0 due to no predicted samples. Use `zero_division` parameter to control this behavior.\n",
      "Precision is ill-defined and being set to 0.0 due to no predicted samples. Use `zero_division` parameter to control this behavior.\n",
      "Precision is ill-defined and being set to 0.0 due to no predicted samples. Use `zero_division` parameter to control this behavior.\n",
      "Precision is ill-defined and being set to 0.0 due to no predicted samples. Use `zero_division` parameter to control this behavior.\n",
      "Precision is ill-defined and being set to 0.0 due to no predicted samples. Use `zero_division` parameter to control this behavior.\n",
      "\u001b[32m[I 2023-12-05 14:26:37,373]\u001b[0m Trial 0 finished with value: 0.8582342871433035 and parameters: {'classifier': 'XGBoost', 'xgb_booster': 'dart', 'xgb_n_estimators': 9, 'xgb_max_depth': 2}. Best is trial 0 with value: 0.8582342871433035.\u001b[0m\n",
      "Precision is ill-defined and being set to 0.0 due to no predicted samples. Use `zero_division` parameter to control this behavior.\n",
      "\u001b[32m[I 2023-12-05 14:26:37,437]\u001b[0m Trial 1 finished with value: 0.8368311689477324 and parameters: {'classifier': 'RandomForest', 'rf_max_depth': 4, 'rf_n_estimators': 7}. Best is trial 0 with value: 0.8582342871433035.\u001b[0m\n",
      "Precision is ill-defined and being set to 0.0 due to no predicted samples. Use `zero_division` parameter to control this behavior.\n",
      "Precision is ill-defined and being set to 0.0 due to no predicted samples. Use `zero_division` parameter to control this behavior.\n",
      "Precision is ill-defined and being set to 0.0 due to no predicted samples. Use `zero_division` parameter to control this behavior.\n",
      "Precision is ill-defined and being set to 0.0 due to no predicted samples. Use `zero_division` parameter to control this behavior.\n",
      "\u001b[32m[I 2023-12-05 14:26:37,566]\u001b[0m Trial 2 finished with value: 0.8393251962342125 and parameters: {'classifier': 'XGBoost', 'xgb_booster': 'dart', 'xgb_n_estimators': 9, 'xgb_max_depth': 3}. Best is trial 0 with value: 0.8582342871433035.\u001b[0m\n",
      "Precision is ill-defined and being set to 0.0 due to no predicted samples. Use `zero_division` parameter to control this behavior.\n",
      "Precision is ill-defined and being set to 0.0 due to no predicted samples. Use `zero_division` parameter to control this behavior.\n",
      "Precision is ill-defined and being set to 0.0 due to no predicted samples. Use `zero_division` parameter to control this behavior.\n",
      "Precision is ill-defined and being set to 0.0 due to no predicted samples. Use `zero_division` parameter to control this behavior.\n",
      "\u001b[32m[I 2023-12-05 14:26:37,605]\u001b[0m Trial 3 finished with value: 0.8510987811398728 and parameters: {'classifier': 'RandomForest', 'rf_max_depth': 3, 'rf_n_estimators': 2}. Best is trial 0 with value: 0.8582342871433035.\u001b[0m\n",
      "Precision is ill-defined and being set to 0.0 due to no predicted samples. Use `zero_division` parameter to control this behavior.\n",
      "Precision is ill-defined and being set to 0.0 due to no predicted samples. Use `zero_division` parameter to control this behavior.\n",
      "\u001b[32m[I 2023-12-05 14:26:37,643]\u001b[0m Trial 4 finished with value: 0.9057006192920312 and parameters: {'classifier': 'RandomForest', 'rf_max_depth': 13, 'rf_n_estimators': 2}. Best is trial 4 with value: 0.9057006192920312.\u001b[0m\n",
      "Precision is ill-defined and being set to 0.0 due to no predicted samples. Use `zero_division` parameter to control this behavior.\n",
      "Precision is ill-defined and being set to 0.0 due to no predicted samples. Use `zero_division` parameter to control this behavior.\n",
      "Precision is ill-defined and being set to 0.0 due to no predicted samples. Use `zero_division` parameter to control this behavior.\n",
      "Precision is ill-defined and being set to 0.0 due to no predicted samples. Use `zero_division` parameter to control this behavior.\n",
      "Precision is ill-defined and being set to 0.0 due to no predicted samples. Use `zero_division` parameter to control this behavior.\n",
      "\u001b[32m[I 2023-12-05 14:26:37,737]\u001b[0m Trial 5 finished with value: 0.8582342871433035 and parameters: {'classifier': 'XGBoost', 'xgb_booster': 'dart', 'xgb_n_estimators': 3, 'xgb_max_depth': 4}. Best is trial 4 with value: 0.9057006192920312.\u001b[0m\n",
      "Precision is ill-defined and being set to 0.0 due to no predicted samples. Use `zero_division` parameter to control this behavior.\n",
      "Precision is ill-defined and being set to 0.0 due to no predicted samples. Use `zero_division` parameter to control this behavior.\n",
      "Precision is ill-defined and being set to 0.0 due to no predicted samples. Use `zero_division` parameter to control this behavior.\n",
      "\u001b[32m[I 2023-12-05 14:26:37,811]\u001b[0m Trial 6 finished with value: 0.8399019441050779 and parameters: {'classifier': 'RandomForest', 'rf_max_depth': 6, 'rf_n_estimators': 10}. Best is trial 4 with value: 0.9057006192920312.\u001b[0m\n",
      "Precision is ill-defined and being set to 0.0 due to no predicted samples. Use `zero_division` parameter to control this behavior.\n",
      "Precision is ill-defined and being set to 0.0 due to no predicted samples. Use `zero_division` parameter to control this behavior.\n",
      "Precision is ill-defined and being set to 0.0 due to no predicted samples. Use `zero_division` parameter to control this behavior.\n",
      "Precision is ill-defined and being set to 0.0 due to no predicted samples. Use `zero_division` parameter to control this behavior.\n",
      "Precision is ill-defined and being set to 0.0 due to no predicted samples. Use `zero_division` parameter to control this behavior.\n",
      "\u001b[32m[I 2023-12-05 14:26:38,094]\u001b[0m Trial 7 finished with value: 0.8582342871433035 and parameters: {'classifier': 'XGBoost', 'xgb_booster': 'dart', 'xgb_n_estimators': 2, 'xgb_max_depth': 1}. Best is trial 4 with value: 0.9057006192920312.\u001b[0m\n",
      "Precision is ill-defined and being set to 0.0 due to no predicted samples. Use `zero_division` parameter to control this behavior.\n",
      "Precision is ill-defined and being set to 0.0 due to no predicted samples. Use `zero_division` parameter to control this behavior.\n",
      "Precision is ill-defined and being set to 0.0 due to no predicted samples. Use `zero_division` parameter to control this behavior.\n",
      "\u001b[32m[I 2023-12-05 14:26:38,808]\u001b[0m Trial 8 finished with value: 0.8358235127325291 and parameters: {'classifier': 'XGBoost', 'xgb_booster': 'dart', 'xgb_n_estimators': 11, 'xgb_max_depth': 3}. Best is trial 4 with value: 0.9057006192920312.\u001b[0m\n",
      "Precision is ill-defined and being set to 0.0 due to no predicted samples. Use `zero_division` parameter to control this behavior.\n",
      "Precision is ill-defined and being set to 0.0 due to no predicted samples. Use `zero_division` parameter to control this behavior.\n",
      "\u001b[32m[I 2023-12-05 14:26:38,856]\u001b[0m Trial 9 finished with value: 0.8440880629970792 and parameters: {'classifier': 'RandomForest', 'rf_max_depth': 23, 'rf_n_estimators': 2}. Best is trial 4 with value: 0.9057006192920312.\u001b[0m\n",
      "Precision is ill-defined and being set to 0.0 due to no predicted samples. Use `zero_division` parameter to control this behavior.\n",
      "\u001b[32m[I 2023-12-05 14:26:38,912]\u001b[0m Trial 10 finished with value: 0.8405792910672547 and parameters: {'classifier': 'RandomForest', 'rf_max_depth': 18, 'rf_n_estimators': 4}. Best is trial 4 with value: 0.9057006192920312.\u001b[0m\n",
      "Precision is ill-defined and being set to 0.0 due to no predicted samples. Use `zero_division` parameter to control this behavior.\n",
      "Precision is ill-defined and being set to 0.0 due to no predicted samples. Use `zero_division` parameter to control this behavior.\n",
      "Precision is ill-defined and being set to 0.0 due to no predicted samples. Use `zero_division` parameter to control this behavior.\n",
      "Precision is ill-defined and being set to 0.0 due to no predicted samples. Use `zero_division` parameter to control this behavior.\n",
      "Precision is ill-defined and being set to 0.0 due to no predicted samples. Use `zero_division` parameter to control this behavior.\n",
      "\u001b[32m[I 2023-12-05 14:26:40,063]\u001b[0m Trial 11 finished with value: 0.8582342871433035 and parameters: {'classifier': 'XGBoost', 'xgb_booster': 'gbtree', 'xgb_n_estimators': 6, 'xgb_max_depth': 1}. Best is trial 4 with value: 0.9057006192920312.\u001b[0m\n",
      "Precision is ill-defined and being set to 0.0 due to no predicted samples. Use `zero_division` parameter to control this behavior.\n",
      "Precision is ill-defined and being set to 0.0 due to no predicted samples. Use `zero_division` parameter to control this behavior.\n",
      "\u001b[32m[I 2023-12-05 14:26:40,125]\u001b[0m Trial 12 finished with value: 0.8404842494294826 and parameters: {'classifier': 'RandomForest', 'rf_max_depth': 11, 'rf_n_estimators': 4}. Best is trial 4 with value: 0.9057006192920312.\u001b[0m\n",
      "Precision is ill-defined and being set to 0.0 due to no predicted samples. Use `zero_division` parameter to control this behavior.\n",
      "Precision is ill-defined and being set to 0.0 due to no predicted samples. Use `zero_division` parameter to control this behavior.\n",
      "Precision is ill-defined and being set to 0.0 due to no predicted samples. Use `zero_division` parameter to control this behavior.\n",
      "\u001b[32m[I 2023-12-05 14:26:40,252]\u001b[0m Trial 13 finished with value: 0.840189690230782 and parameters: {'classifier': 'XGBoost', 'xgb_booster': 'gbtree', 'xgb_n_estimators': 15, 'xgb_max_depth': 2}. Best is trial 4 with value: 0.9057006192920312.\u001b[0m\n",
      "Precision is ill-defined and being set to 0.0 due to no predicted samples. Use `zero_division` parameter to control this behavior.\n",
      "Precision is ill-defined and being set to 0.0 due to no predicted samples. Use `zero_division` parameter to control this behavior.\n",
      "Precision is ill-defined and being set to 0.0 due to no predicted samples. Use `zero_division` parameter to control this behavior.\n",
      "\u001b[32m[I 2023-12-05 14:26:40,294]\u001b[0m Trial 14 finished with value: 0.8835425421067308 and parameters: {'classifier': 'RandomForest', 'rf_max_depth': 10, 'rf_n_estimators': 2}. Best is trial 4 with value: 0.9057006192920312.\u001b[0m\n",
      "Precision is ill-defined and being set to 0.0 due to no predicted samples. Use `zero_division` parameter to control this behavior.\n",
      "\u001b[32m[I 2023-12-05 14:26:40,335]\u001b[0m Trial 15 finished with value: 0.8406050165646782 and parameters: {'classifier': 'RandomForest', 'rf_max_depth': 10, 'rf_n_estimators': 2}. Best is trial 4 with value: 0.9057006192920312.\u001b[0m\n",
      "Precision is ill-defined and being set to 0.0 due to no predicted samples. Use `zero_division` parameter to control this behavior.\n",
      "\u001b[32m[I 2023-12-05 14:26:40,380]\u001b[0m Trial 16 finished with value: 0.8219908913467794 and parameters: {'classifier': 'RandomForest', 'rf_max_depth': 13, 'rf_n_estimators': 3}. Best is trial 4 with value: 0.9057006192920312.\u001b[0m\n",
      "Precision is ill-defined and being set to 0.0 due to no predicted samples. Use `zero_division` parameter to control this behavior.\n",
      "Precision is ill-defined and being set to 0.0 due to no predicted samples. Use `zero_division` parameter to control this behavior.\n",
      "Precision is ill-defined and being set to 0.0 due to no predicted samples. Use `zero_division` parameter to control this behavior.\n",
      "Precision is ill-defined and being set to 0.0 due to no predicted samples. Use `zero_division` parameter to control this behavior.\n",
      "\u001b[32m[I 2023-12-05 14:26:40,480]\u001b[0m Trial 17 finished with value: 0.8473251962342125 and parameters: {'classifier': 'RandomForest', 'rf_max_depth': 30, 'rf_n_estimators': 15}. Best is trial 4 with value: 0.9057006192920312.\u001b[0m\n",
      "Precision is ill-defined and being set to 0.0 due to no predicted samples. Use `zero_division` parameter to control this behavior.\n",
      "Precision is ill-defined and being set to 0.0 due to no predicted samples. Use `zero_division` parameter to control this behavior.\n",
      "\u001b[32m[I 2023-12-05 14:26:40,525]\u001b[0m Trial 18 finished with value: 0.8135780946491531 and parameters: {'classifier': 'RandomForest', 'rf_max_depth': 6, 'rf_n_estimators': 3}. Best is trial 4 with value: 0.9057006192920312.\u001b[0m\n",
      "Precision is ill-defined and being set to 0.0 due to no predicted samples. Use `zero_division` parameter to control this behavior.\n",
      "\u001b[32m[I 2023-12-05 14:26:40,568]\u001b[0m Trial 19 finished with value: 0.8177733552757473 and parameters: {'classifier': 'RandomForest', 'rf_max_depth': 9, 'rf_n_estimators': 3}. Best is trial 4 with value: 0.9057006192920312.\u001b[0m\n",
      "Precision is ill-defined and being set to 0.0 due to no predicted samples. Use `zero_division` parameter to control this behavior.\n",
      "Precision is ill-defined and being set to 0.0 due to no predicted samples. Use `zero_division` parameter to control this behavior.\n",
      "Precision is ill-defined and being set to 0.0 due to no predicted samples. Use `zero_division` parameter to control this behavior.\n",
      "Precision is ill-defined and being set to 0.0 due to no predicted samples. Use `zero_division` parameter to control this behavior.\n",
      "\u001b[32m[I 2023-12-05 14:26:40,625]\u001b[0m Trial 20 finished with value: 0.8547326036416198 and parameters: {'classifier': 'RandomForest', 'rf_max_depth': 2, 'rf_n_estimators': 6}. Best is trial 4 with value: 0.9057006192920312.\u001b[0m\n",
      "Precision is ill-defined and being set to 0.0 due to no predicted samples. Use `zero_division` parameter to control this behavior.\n",
      "Precision is ill-defined and being set to 0.0 due to no predicted samples. Use `zero_division` parameter to control this behavior.\n",
      "Precision is ill-defined and being set to 0.0 due to no predicted samples. Use `zero_division` parameter to control this behavior.\n",
      "Precision is ill-defined and being set to 0.0 due to no predicted samples. Use `zero_division` parameter to control this behavior.\n",
      "Precision is ill-defined and being set to 0.0 due to no predicted samples. Use `zero_division` parameter to control this behavior.\n",
      "\u001b[32m[I 2023-12-05 14:26:40,731]\u001b[0m Trial 21 finished with value: 0.8582342871433035 and parameters: {'classifier': 'XGBoost', 'xgb_booster': 'dart', 'xgb_n_estimators': 5, 'xgb_max_depth': 2}. Best is trial 4 with value: 0.9057006192920312.\u001b[0m\n",
      "Precision is ill-defined and being set to 0.0 due to no predicted samples. Use `zero_division` parameter to control this behavior.\n",
      "Precision is ill-defined and being set to 0.0 due to no predicted samples. Use `zero_division` parameter to control this behavior.\n",
      "Precision is ill-defined and being set to 0.0 due to no predicted samples. Use `zero_division` parameter to control this behavior.\n",
      "Precision is ill-defined and being set to 0.0 due to no predicted samples. Use `zero_division` parameter to control this behavior.\n",
      "Precision is ill-defined and being set to 0.0 due to no predicted samples. Use `zero_division` parameter to control this behavior.\n",
      "\u001b[32m[I 2023-12-05 14:26:41,139]\u001b[0m Trial 22 finished with value: 0.8582342871433035 and parameters: {'classifier': 'XGBoost', 'xgb_booster': 'gbtree', 'xgb_n_estimators': 3, 'xgb_max_depth': 4}. Best is trial 4 with value: 0.9057006192920312.\u001b[0m\n",
      "Precision is ill-defined and being set to 0.0 due to no predicted samples. Use `zero_division` parameter to control this behavior.\n",
      "Precision is ill-defined and being set to 0.0 due to no predicted samples. Use `zero_division` parameter to control this behavior.\n",
      "Precision is ill-defined and being set to 0.0 due to no predicted samples. Use `zero_division` parameter to control this behavior.\n",
      "Precision is ill-defined and being set to 0.0 due to no predicted samples. Use `zero_division` parameter to control this behavior.\n",
      "\u001b[32m[I 2023-12-05 14:26:41,414]\u001b[0m Trial 23 finished with value: 0.8547326036416198 and parameters: {'classifier': 'XGBoost', 'xgb_booster': 'dart', 'xgb_n_estimators': 8, 'xgb_max_depth': 2}. Best is trial 4 with value: 0.9057006192920312.\u001b[0m\n",
      "Precision is ill-defined and being set to 0.0 due to no predicted samples. Use `zero_division` parameter to control this behavior.\n",
      "Precision is ill-defined and being set to 0.0 due to no predicted samples. Use `zero_division` parameter to control this behavior.\n",
      "Precision is ill-defined and being set to 0.0 due to no predicted samples. Use `zero_division` parameter to control this behavior.\n",
      "Precision is ill-defined and being set to 0.0 due to no predicted samples. Use `zero_division` parameter to control this behavior.\n",
      "\u001b[32m[I 2023-12-05 14:26:41,458]\u001b[0m Trial 24 finished with value: 0.8510987811398728 and parameters: {'classifier': 'RandomForest', 'rf_max_depth': 16, 'rf_n_estimators': 2}. Best is trial 4 with value: 0.9057006192920312.\u001b[0m\n",
      " 38%|███▊      | 3/8 [00:10<00:17,  3.51s/it]\u001b[32m[I 2023-12-05 14:26:41,469]\u001b[0m A new study created in memory with name: no-name-f4e6d376-c625-480a-855d-9d96f4fcf867\u001b[0m\n",
      "Precision is ill-defined and being set to 0.0 due to no predicted samples. Use `zero_division` parameter to control this behavior.\n",
      "\u001b[32m[I 2023-12-05 14:26:41,585]\u001b[0m Trial 0 finished with value: 0.6379658965240943 and parameters: {'classifier': 'XGBoost', 'xgb_booster': 'dart', 'xgb_n_estimators': 3, 'xgb_max_depth': 2}. Best is trial 0 with value: 0.6379658965240943.\u001b[0m\n",
      "\u001b[32m[I 2023-12-05 14:26:41,773]\u001b[0m Trial 1 finished with value: 0.7556099762526576 and parameters: {'classifier': 'XGBoost', 'xgb_booster': 'dart', 'xgb_n_estimators': 14, 'xgb_max_depth': 2}. Best is trial 1 with value: 0.7556099762526576.\u001b[0m\n",
      "\u001b[32m[I 2023-12-05 14:26:41,884]\u001b[0m Trial 2 finished with value: 0.7719388676511141 and parameters: {'classifier': 'XGBoost', 'xgb_booster': 'gbtree', 'xgb_n_estimators': 8, 'xgb_max_depth': 4}. Best is trial 2 with value: 0.7719388676511141.\u001b[0m\n",
      "\u001b[32m[I 2023-12-05 14:26:41,928]\u001b[0m Trial 3 finished with value: 0.783035533512602 and parameters: {'classifier': 'RandomForest', 'rf_max_depth': 18, 'rf_n_estimators': 3}. Best is trial 3 with value: 0.783035533512602.\u001b[0m\n",
      "Precision is ill-defined and being set to 0.0 due to no predicted samples. Use `zero_division` parameter to control this behavior.\n",
      "\u001b[32m[I 2023-12-05 14:26:42,020]\u001b[0m Trial 4 finished with value: 0.6199113674836683 and parameters: {'classifier': 'RandomForest', 'rf_max_depth': 2, 'rf_n_estimators': 14}. Best is trial 3 with value: 0.783035533512602.\u001b[0m\n",
      "\u001b[32m[I 2023-12-05 14:26:42,068]\u001b[0m Trial 5 finished with value: 0.7264202863934024 and parameters: {'classifier': 'RandomForest', 'rf_max_depth': 6, 'rf_n_estimators': 4}. Best is trial 3 with value: 0.783035533512602.\u001b[0m\n",
      "\u001b[32m[I 2023-12-05 14:26:42,180]\u001b[0m Trial 6 finished with value: 0.7400785439168773 and parameters: {'classifier': 'XGBoost', 'xgb_booster': 'dart', 'xgb_n_estimators': 7, 'xgb_max_depth': 3}. Best is trial 3 with value: 0.783035533512602.\u001b[0m\n",
      "\u001b[32m[I 2023-12-05 14:26:42,218]\u001b[0m Trial 7 finished with value: 0.5912336359292881 and parameters: {'classifier': 'RandomForest', 'rf_max_depth': 2, 'rf_n_estimators': 2}. Best is trial 3 with value: 0.783035533512602.\u001b[0m\n",
      "\u001b[32m[I 2023-12-05 14:26:42,319]\u001b[0m Trial 8 finished with value: 0.7631472747029994 and parameters: {'classifier': 'XGBoost', 'xgb_booster': 'gbtree', 'xgb_n_estimators': 10, 'xgb_max_depth': 2}. Best is trial 3 with value: 0.783035533512602.\u001b[0m\n",
      "\u001b[32m[I 2023-12-05 14:26:42,371]\u001b[0m Trial 9 finished with value: 0.7719667200925295 and parameters: {'classifier': 'RandomForest', 'rf_max_depth': 5, 'rf_n_estimators': 5}. Best is trial 3 with value: 0.783035533512602.\u001b[0m\n",
      "\u001b[32m[I 2023-12-05 14:26:42,413]\u001b[0m Trial 10 finished with value: 0.6950246146767886 and parameters: {'classifier': 'RandomForest', 'rf_max_depth': 32, 'rf_n_estimators': 2}. Best is trial 3 with value: 0.783035533512602.\u001b[0m\n",
      "\u001b[32m[I 2023-12-05 14:26:42,467]\u001b[0m Trial 11 finished with value: 0.7251969952942285 and parameters: {'classifier': 'RandomForest', 'rf_max_depth': 13, 'rf_n_estimators': 5}. Best is trial 3 with value: 0.783035533512602.\u001b[0m\n",
      "\u001b[32m[I 2023-12-05 14:26:42,522]\u001b[0m Trial 12 finished with value: 0.7247562891185181 and parameters: {'classifier': 'RandomForest', 'rf_max_depth': 7, 'rf_n_estimators': 5}. Best is trial 3 with value: 0.783035533512602.\u001b[0m\n",
      "\u001b[32m[I 2023-12-05 14:26:42,571]\u001b[0m Trial 13 finished with value: 0.5540636133027437 and parameters: {'classifier': 'RandomForest', 'rf_max_depth': 6, 'rf_n_estimators': 4}. Best is trial 3 with value: 0.783035533512602.\u001b[0m\n",
      "\u001b[32m[I 2023-12-05 14:26:42,641]\u001b[0m Trial 14 finished with value: 0.7497611538095816 and parameters: {'classifier': 'RandomForest', 'rf_max_depth': 18, 'rf_n_estimators': 8}. Best is trial 3 with value: 0.783035533512602.\u001b[0m\n",
      "\u001b[32m[I 2023-12-05 14:26:42,687]\u001b[0m Trial 15 finished with value: 0.867281538860535 and parameters: {'classifier': 'RandomForest', 'rf_max_depth': 4, 'rf_n_estimators': 3}. Best is trial 15 with value: 0.867281538860535.\u001b[0m\n",
      "\u001b[32m[I 2023-12-05 14:26:42,734]\u001b[0m Trial 16 finished with value: 0.6524214944304162 and parameters: {'classifier': 'RandomForest', 'rf_max_depth': 3, 'rf_n_estimators': 3}. Best is trial 15 with value: 0.867281538860535.\u001b[0m\n",
      "\u001b[32m[I 2023-12-05 14:26:42,778]\u001b[0m Trial 17 finished with value: 0.5886429721647113 and parameters: {'classifier': 'RandomForest', 'rf_max_depth': 13, 'rf_n_estimators': 3}. Best is trial 15 with value: 0.867281538860535.\u001b[0m\n",
      "\u001b[32m[I 2023-12-05 14:26:42,823]\u001b[0m Trial 18 finished with value: 0.6588066353665685 and parameters: {'classifier': 'RandomForest', 'rf_max_depth': 27, 'rf_n_estimators': 3}. Best is trial 15 with value: 0.867281538860535.\u001b[0m\n",
      "\u001b[32m[I 2023-12-05 14:26:42,890]\u001b[0m Trial 19 finished with value: 0.6857585315099394 and parameters: {'classifier': 'RandomForest', 'rf_max_depth': 4, 'rf_n_estimators': 8}. Best is trial 15 with value: 0.867281538860535.\u001b[0m\n",
      "\u001b[32m[I 2023-12-05 14:26:42,932]\u001b[0m Trial 20 finished with value: 0.8029679644018037 and parameters: {'classifier': 'RandomForest', 'rf_max_depth': 10, 'rf_n_estimators': 2}. Best is trial 15 with value: 0.867281538860535.\u001b[0m\n",
      "\u001b[32m[I 2023-12-05 14:26:42,973]\u001b[0m Trial 21 finished with value: 0.7922085278555867 and parameters: {'classifier': 'RandomForest', 'rf_max_depth': 10, 'rf_n_estimators': 2}. Best is trial 15 with value: 0.867281538860535.\u001b[0m\n",
      "\u001b[32m[I 2023-12-05 14:26:43,015]\u001b[0m Trial 22 finished with value: 0.6847125759394668 and parameters: {'classifier': 'RandomForest', 'rf_max_depth': 10, 'rf_n_estimators': 2}. Best is trial 15 with value: 0.867281538860535.\u001b[0m\n",
      "\u001b[32m[I 2023-12-05 14:26:43,056]\u001b[0m Trial 23 finished with value: 0.7343566709927859 and parameters: {'classifier': 'RandomForest', 'rf_max_depth': 8, 'rf_n_estimators': 2}. Best is trial 15 with value: 0.867281538860535.\u001b[0m\n",
      "\u001b[32m[I 2023-12-05 14:26:43,099]\u001b[0m Trial 24 finished with value: 0.6797722159281667 and parameters: {'classifier': 'RandomForest', 'rf_max_depth': 3, 'rf_n_estimators': 2}. Best is trial 15 with value: 0.867281538860535.\u001b[0m\n",
      " 50%|█████     | 4/8 [00:11<00:11,  2.77s/it]\u001b[32m[I 2023-12-05 14:26:43,111]\u001b[0m A new study created in memory with name: no-name-8c74fdcf-80ab-4957-b3c2-55d141f04af3\u001b[0m\n",
      "\u001b[32m[I 2023-12-05 14:26:43,151]\u001b[0m Trial 0 finished with value: 0.892097147159259 and parameters: {'classifier': 'RandomForest', 'rf_max_depth': 3, 'rf_n_estimators': 2}. Best is trial 0 with value: 0.892097147159259.\u001b[0m\n",
      "Precision is ill-defined and being set to 0.0 due to no predicted samples. Use `zero_division` parameter to control this behavior.\n",
      "Precision is ill-defined and being set to 0.0 due to no predicted samples. Use `zero_division` parameter to control this behavior.\n",
      "Precision is ill-defined and being set to 0.0 due to no predicted samples. Use `zero_division` parameter to control this behavior.\n",
      "Precision is ill-defined and being set to 0.0 due to no predicted samples. Use `zero_division` parameter to control this behavior.\n",
      "\u001b[32m[I 2023-12-05 14:26:43,248]\u001b[0m Trial 1 finished with value: 0.7215725451019569 and parameters: {'classifier': 'XGBoost', 'xgb_booster': 'dart', 'xgb_n_estimators': 5, 'xgb_max_depth': 2}. Best is trial 0 with value: 0.892097147159259.\u001b[0m\n",
      "Precision is ill-defined and being set to 0.0 due to no predicted samples. Use `zero_division` parameter to control this behavior.\n",
      "Precision is ill-defined and being set to 0.0 due to no predicted samples. Use `zero_division` parameter to control this behavior.\n",
      "Precision is ill-defined and being set to 0.0 due to no predicted samples. Use `zero_division` parameter to control this behavior.\n",
      "Precision is ill-defined and being set to 0.0 due to no predicted samples. Use `zero_division` parameter to control this behavior.\n",
      "Precision is ill-defined and being set to 0.0 due to no predicted samples. Use `zero_division` parameter to control this behavior.\n",
      "\u001b[32m[I 2023-12-05 14:26:43,470]\u001b[0m Trial 2 finished with value: 0.6826115061409179 and parameters: {'classifier': 'XGBoost', 'xgb_booster': 'dart', 'xgb_n_estimators': 10, 'xgb_max_depth': 1}. Best is trial 0 with value: 0.892097147159259.\u001b[0m\n",
      "Precision is ill-defined and being set to 0.0 due to no predicted samples. Use `zero_division` parameter to control this behavior.\n",
      "Precision is ill-defined and being set to 0.0 due to no predicted samples. Use `zero_division` parameter to control this behavior.\n",
      "Precision is ill-defined and being set to 0.0 due to no predicted samples. Use `zero_division` parameter to control this behavior.\n",
      "Precision is ill-defined and being set to 0.0 due to no predicted samples. Use `zero_division` parameter to control this behavior.\n",
      "Precision is ill-defined and being set to 0.0 due to no predicted samples. Use `zero_division` parameter to control this behavior.\n",
      "\u001b[32m[I 2023-12-05 14:26:43,573]\u001b[0m Trial 3 finished with value: 0.6826115061409179 and parameters: {'classifier': 'XGBoost', 'xgb_booster': 'dart', 'xgb_n_estimators': 6, 'xgb_max_depth': 1}. Best is trial 0 with value: 0.892097147159259.\u001b[0m\n",
      "Precision is ill-defined and being set to 0.0 due to no predicted samples. Use `zero_division` parameter to control this behavior.\n",
      "Precision is ill-defined and being set to 0.0 due to no predicted samples. Use `zero_division` parameter to control this behavior.\n",
      "\u001b[32m[I 2023-12-05 14:26:43,623]\u001b[0m Trial 4 finished with value: 0.7635812243659552 and parameters: {'classifier': 'RandomForest', 'rf_max_depth': 21, 'rf_n_estimators': 4}. Best is trial 0 with value: 0.892097147159259.\u001b[0m\n",
      "Precision is ill-defined and being set to 0.0 due to no predicted samples. Use `zero_division` parameter to control this behavior.\n",
      "Precision is ill-defined and being set to 0.0 due to no predicted samples. Use `zero_division` parameter to control this behavior.\n",
      "\u001b[32m[I 2023-12-05 14:26:43,714]\u001b[0m Trial 5 finished with value: 0.7900253292806484 and parameters: {'classifier': 'RandomForest', 'rf_max_depth': 2, 'rf_n_estimators': 13}. Best is trial 0 with value: 0.892097147159259.\u001b[0m\n",
      "Precision is ill-defined and being set to 0.0 due to no predicted samples. Use `zero_division` parameter to control this behavior.\n",
      "\u001b[32m[I 2023-12-05 14:26:43,804]\u001b[0m Trial 6 finished with value: 0.6936550668899779 and parameters: {'classifier': 'RandomForest', 'rf_max_depth': 8, 'rf_n_estimators': 13}. Best is trial 0 with value: 0.892097147159259.\u001b[0m\n",
      "Precision is ill-defined and being set to 0.0 due to no predicted samples. Use `zero_division` parameter to control this behavior.\n",
      "Precision is ill-defined and being set to 0.0 due to no predicted samples. Use `zero_division` parameter to control this behavior.\n",
      "Precision is ill-defined and being set to 0.0 due to no predicted samples. Use `zero_division` parameter to control this behavior.\n",
      "Precision is ill-defined and being set to 0.0 due to no predicted samples. Use `zero_division` parameter to control this behavior.\n",
      "\u001b[32m[I 2023-12-05 14:26:43,897]\u001b[0m Trial 7 finished with value: 0.6790654068501378 and parameters: {'classifier': 'XGBoost', 'xgb_booster': 'dart', 'xgb_n_estimators': 4, 'xgb_max_depth': 2}. Best is trial 0 with value: 0.892097147159259.\u001b[0m\n",
      "Precision is ill-defined and being set to 0.0 due to no predicted samples. Use `zero_division` parameter to control this behavior.\n",
      "Precision is ill-defined and being set to 0.0 due to no predicted samples. Use `zero_division` parameter to control this behavior.\n",
      "Precision is ill-defined and being set to 0.0 due to no predicted samples. Use `zero_division` parameter to control this behavior.\n",
      "Precision is ill-defined and being set to 0.0 due to no predicted samples. Use `zero_division` parameter to control this behavior.\n",
      "Precision is ill-defined and being set to 0.0 due to no predicted samples. Use `zero_division` parameter to control this behavior.\n",
      "\u001b[32m[I 2023-12-05 14:26:43,985]\u001b[0m Trial 8 finished with value: 0.6826115061409179 and parameters: {'classifier': 'XGBoost', 'xgb_booster': 'dart', 'xgb_n_estimators': 4, 'xgb_max_depth': 1}. Best is trial 0 with value: 0.892097147159259.\u001b[0m\n",
      "Precision is ill-defined and being set to 0.0 due to no predicted samples. Use `zero_division` parameter to control this behavior.\n",
      "Precision is ill-defined and being set to 0.0 due to no predicted samples. Use `zero_division` parameter to control this behavior.\n",
      "Precision is ill-defined and being set to 0.0 due to no predicted samples. Use `zero_division` parameter to control this behavior.\n",
      "Precision is ill-defined and being set to 0.0 due to no predicted samples. Use `zero_division` parameter to control this behavior.\n",
      "Precision is ill-defined and being set to 0.0 due to no predicted samples. Use `zero_division` parameter to control this behavior.\n",
      "\u001b[32m[I 2023-12-05 14:26:44,073]\u001b[0m Trial 9 finished with value: 0.6826115061409179 and parameters: {'classifier': 'XGBoost', 'xgb_booster': 'dart', 'xgb_n_estimators': 2, 'xgb_max_depth': 3}. Best is trial 0 with value: 0.892097147159259.\u001b[0m\n",
      "\u001b[32m[I 2023-12-05 14:26:44,113]\u001b[0m Trial 10 finished with value: 0.7860887113063677 and parameters: {'classifier': 'RandomForest', 'rf_max_depth': 2, 'rf_n_estimators': 2}. Best is trial 0 with value: 0.892097147159259.\u001b[0m\n",
      "Precision is ill-defined and being set to 0.0 due to no predicted samples. Use `zero_division` parameter to control this behavior.\n",
      "Precision is ill-defined and being set to 0.0 due to no predicted samples. Use `zero_division` parameter to control this behavior.\n",
      "Precision is ill-defined and being set to 0.0 due to no predicted samples. Use `zero_division` parameter to control this behavior.\n",
      "Precision is ill-defined and being set to 0.0 due to no predicted samples. Use `zero_division` parameter to control this behavior.\n",
      "\u001b[32m[I 2023-12-05 14:26:44,222]\u001b[0m Trial 11 finished with value: 0.6790654068501378 and parameters: {'classifier': 'RandomForest', 'rf_max_depth': 2, 'rf_n_estimators': 16}. Best is trial 0 with value: 0.892097147159259.\u001b[0m\n",
      "Precision is ill-defined and being set to 0.0 due to no predicted samples. Use `zero_division` parameter to control this behavior.\n",
      "\u001b[32m[I 2023-12-05 14:26:44,283]\u001b[0m Trial 12 finished with value: 0.965274308767602 and parameters: {'classifier': 'RandomForest', 'rf_max_depth': 4, 'rf_n_estimators': 6}. Best is trial 12 with value: 0.965274308767602.\u001b[0m\n",
      "Precision is ill-defined and being set to 0.0 due to no predicted samples. Use `zero_division` parameter to control this behavior.\n",
      "\u001b[32m[I 2023-12-05 14:26:44,340]\u001b[0m Trial 13 finished with value: 0.7380893812070283 and parameters: {'classifier': 'RandomForest', 'rf_max_depth': 5, 'rf_n_estimators': 5}. Best is trial 12 with value: 0.965274308767602.\u001b[0m\n",
      "Precision is ill-defined and being set to 0.0 due to no predicted samples. Use `zero_division` parameter to control this behavior.\n",
      "\u001b[32m[I 2023-12-05 14:26:44,397]\u001b[0m Trial 14 finished with value: 0.6888134110787172 and parameters: {'classifier': 'RandomForest', 'rf_max_depth': 5, 'rf_n_estimators': 5}. Best is trial 12 with value: 0.965274308767602.\u001b[0m\n",
      "\u001b[32m[I 2023-12-05 14:26:44,439]\u001b[0m Trial 15 finished with value: 0.7117786561264822 and parameters: {'classifier': 'RandomForest', 'rf_max_depth': 4, 'rf_n_estimators': 2}. Best is trial 12 with value: 0.965274308767602.\u001b[0m\n",
      "Precision is ill-defined and being set to 0.0 due to no predicted samples. Use `zero_division` parameter to control this behavior.\n",
      "Precision is ill-defined and being set to 0.0 due to no predicted samples. Use `zero_division` parameter to control this behavior.\n",
      "\u001b[32m[I 2023-12-05 14:26:44,512]\u001b[0m Trial 16 finished with value: 0.7340764421710713 and parameters: {'classifier': 'RandomForest', 'rf_max_depth': 8, 'rf_n_estimators': 8}. Best is trial 12 with value: 0.965274308767602.\u001b[0m\n",
      "Precision is ill-defined and being set to 0.0 due to no predicted samples. Use `zero_division` parameter to control this behavior.\n",
      "Precision is ill-defined and being set to 0.0 due to no predicted samples. Use `zero_division` parameter to control this behavior.\n",
      "\u001b[32m[I 2023-12-05 14:26:44,559]\u001b[0m Trial 17 finished with value: 0.7009032340208811 and parameters: {'classifier': 'RandomForest', 'rf_max_depth': 3, 'rf_n_estimators': 3}. Best is trial 12 with value: 0.965274308767602.\u001b[0m\n",
      "Precision is ill-defined and being set to 0.0 due to no predicted samples. Use `zero_division` parameter to control this behavior.\n",
      "Precision is ill-defined and being set to 0.0 due to no predicted samples. Use `zero_division` parameter to control this behavior.\n",
      "\u001b[32m[I 2023-12-05 14:26:44,631]\u001b[0m Trial 18 finished with value: 0.7598809468451412 and parameters: {'classifier': 'RandomForest', 'rf_max_depth': 11, 'rf_n_estimators': 8}. Best is trial 12 with value: 0.965274308767602.\u001b[0m\n",
      "Precision is ill-defined and being set to 0.0 due to no predicted samples. Use `zero_division` parameter to control this behavior.\n",
      "\u001b[32m[I 2023-12-05 14:26:44,676]\u001b[0m Trial 19 finished with value: 0.7076354732737711 and parameters: {'classifier': 'RandomForest', 'rf_max_depth': 3, 'rf_n_estimators': 3}. Best is trial 12 with value: 0.965274308767602.\u001b[0m\n",
      "\u001b[32m[I 2023-12-05 14:26:44,740]\u001b[0m Trial 20 finished with value: 0.7171098084623921 and parameters: {'classifier': 'RandomForest', 'rf_max_depth': 18, 'rf_n_estimators': 7}. Best is trial 12 with value: 0.965274308767602.\u001b[0m\n",
      "Precision is ill-defined and being set to 0.0 due to no predicted samples. Use `zero_division` parameter to control this behavior.\n",
      "Precision is ill-defined and being set to 0.0 due to no predicted samples. Use `zero_division` parameter to control this behavior.\n",
      "Precision is ill-defined and being set to 0.0 due to no predicted samples. Use `zero_division` parameter to control this behavior.\n",
      "\u001b[32m[I 2023-12-05 14:26:44,828]\u001b[0m Trial 21 finished with value: 0.6680021841512526 and parameters: {'classifier': 'RandomForest', 'rf_max_depth': 3, 'rf_n_estimators': 12}. Best is trial 12 with value: 0.965274308767602.\u001b[0m\n",
      "Precision is ill-defined and being set to 0.0 due to no predicted samples. Use `zero_division` parameter to control this behavior.\n",
      "Precision is ill-defined and being set to 0.0 due to no predicted samples. Use `zero_division` parameter to control this behavior.\n",
      "\u001b[32m[I 2023-12-05 14:26:44,873]\u001b[0m Trial 22 finished with value: 0.7051196669143849 and parameters: {'classifier': 'RandomForest', 'rf_max_depth': 2, 'rf_n_estimators': 3}. Best is trial 12 with value: 0.965274308767602.\u001b[0m\n",
      "\u001b[32m[I 2023-12-05 14:26:44,948]\u001b[0m Trial 23 finished with value: 0.7157056277056276 and parameters: {'classifier': 'RandomForest', 'rf_max_depth': 4, 'rf_n_estimators': 10}. Best is trial 12 with value: 0.965274308767602.\u001b[0m\n",
      "Precision is ill-defined and being set to 0.0 due to no predicted samples. Use `zero_division` parameter to control this behavior.\n",
      "\u001b[32m[I 2023-12-05 14:26:45,007]\u001b[0m Trial 24 finished with value: 0.6645174921032242 and parameters: {'classifier': 'RandomForest', 'rf_max_depth': 32, 'rf_n_estimators': 6}. Best is trial 12 with value: 0.965274308767602.\u001b[0m\n",
      "Precision and F-score are ill-defined and being set to 0.0 in labels with no predicted samples. Use `zero_division` parameter to control this behavior.\n",
      "Precision and F-score are ill-defined and being set to 0.0 in labels with no predicted samples. Use `zero_division` parameter to control this behavior.\n",
      "Precision and F-score are ill-defined and being set to 0.0 in labels with no predicted samples. Use `zero_division` parameter to control this behavior.\n",
      " 62%|██████▎   | 5/8 [00:13<00:07,  2.46s/it]\u001b[32m[I 2023-12-05 14:26:45,022]\u001b[0m A new study created in memory with name: no-name-d9c4f634-d4be-4ee2-851a-73d1b7a92cc1\u001b[0m\n",
      "\u001b[32m[I 2023-12-05 14:26:45,104]\u001b[0m Trial 0 finished with value: 0.8510529310529311 and parameters: {'classifier': 'RandomForest', 'rf_max_depth': 6, 'rf_n_estimators': 12}. Best is trial 0 with value: 0.8510529310529311.\u001b[0m\n",
      "\u001b[32m[I 2023-12-05 14:26:45,141]\u001b[0m Trial 1 finished with value: 0.6627541022662974 and parameters: {'classifier': 'RandomForest', 'rf_max_depth': 13, 'rf_n_estimators': 2}. Best is trial 0 with value: 0.8510529310529311.\u001b[0m\n",
      "\u001b[32m[I 2023-12-05 14:26:45,367]\u001b[0m Trial 2 finished with value: 0.9330168533622482 and parameters: {'classifier': 'XGBoost', 'xgb_booster': 'gbtree', 'xgb_n_estimators': 11, 'xgb_max_depth': 3}. Best is trial 2 with value: 0.9330168533622482.\u001b[0m\n",
      "\u001b[32m[I 2023-12-05 14:26:45,418]\u001b[0m Trial 3 finished with value: 0.7302152255523849 and parameters: {'classifier': 'RandomForest', 'rf_max_depth': 3, 'rf_n_estimators': 5}. Best is trial 2 with value: 0.9330168533622482.\u001b[0m\n",
      "\u001b[32m[I 2023-12-05 14:26:45,464]\u001b[0m Trial 4 finished with value: 0.8671114883310006 and parameters: {'classifier': 'RandomForest', 'rf_max_depth': 3, 'rf_n_estimators': 4}. Best is trial 2 with value: 0.9330168533622482.\u001b[0m\n",
      "Precision is ill-defined and being set to 0.0 due to no predicted samples. Use `zero_division` parameter to control this behavior.\n",
      "Precision is ill-defined and being set to 0.0 due to no predicted samples. Use `zero_division` parameter to control this behavior.\n",
      "\u001b[32m[I 2023-12-05 14:26:45,502]\u001b[0m Trial 5 finished with value: 0.8977630865095415 and parameters: {'classifier': 'RandomForest', 'rf_max_depth': 2, 'rf_n_estimators': 2}. Best is trial 2 with value: 0.9330168533622482.\u001b[0m\n",
      "\u001b[32m[I 2023-12-05 14:26:45,560]\u001b[0m Trial 6 finished with value: 0.8957737291947817 and parameters: {'classifier': 'RandomForest', 'rf_max_depth': 4, 'rf_n_estimators': 7}. Best is trial 2 with value: 0.9330168533622482.\u001b[0m\n",
      "Precision is ill-defined and being set to 0.0 due to no predicted samples. Use `zero_division` parameter to control this behavior.\n",
      "\u001b[32m[I 2023-12-05 14:26:45,607]\u001b[0m Trial 7 finished with value: 0.7975998917175388 and parameters: {'classifier': 'RandomForest', 'rf_max_depth': 5, 'rf_n_estimators': 4}. Best is trial 2 with value: 0.9330168533622482.\u001b[0m\n",
      "\u001b[32m[I 2023-12-05 14:26:45,644]\u001b[0m Trial 8 finished with value: 0.7637935166882535 and parameters: {'classifier': 'RandomForest', 'rf_max_depth': 4, 'rf_n_estimators': 2}. Best is trial 2 with value: 0.9330168533622482.\u001b[0m\n",
      "Precision is ill-defined and being set to 0.0 due to no predicted samples. Use `zero_division` parameter to control this behavior.\n",
      "\u001b[32m[I 2023-12-05 14:26:45,827]\u001b[0m Trial 9 finished with value: 0.7249609248261367 and parameters: {'classifier': 'XGBoost', 'xgb_booster': 'gbtree', 'xgb_n_estimators': 3, 'xgb_max_depth': 3}. Best is trial 2 with value: 0.9330168533622482.\u001b[0m\n",
      "Precision is ill-defined and being set to 0.0 due to no predicted samples. Use `zero_division` parameter to control this behavior.\n",
      "\u001b[32m[I 2023-12-05 14:26:46,087]\u001b[0m Trial 10 finished with value: 0.7241528931772835 and parameters: {'classifier': 'XGBoost', 'xgb_booster': 'dart', 'xgb_n_estimators': 13, 'xgb_max_depth': 1}. Best is trial 2 with value: 0.9330168533622482.\u001b[0m\n",
      "\u001b[32m[I 2023-12-05 14:26:46,237]\u001b[0m Trial 11 finished with value: 0.9158611127690074 and parameters: {'classifier': 'XGBoost', 'xgb_booster': 'gbtree', 'xgb_n_estimators': 13, 'xgb_max_depth': 4}. Best is trial 2 with value: 0.9330168533622482.\u001b[0m\n",
      "\u001b[32m[I 2023-12-05 14:26:46,380]\u001b[0m Trial 12 finished with value: 0.9158611127690074 and parameters: {'classifier': 'XGBoost', 'xgb_booster': 'gbtree', 'xgb_n_estimators': 14, 'xgb_max_depth': 4}. Best is trial 2 with value: 0.9330168533622482.\u001b[0m\n",
      "\u001b[32m[I 2023-12-05 14:26:46,495]\u001b[0m Trial 13 finished with value: 0.9834208419445905 and parameters: {'classifier': 'XGBoost', 'xgb_booster': 'gbtree', 'xgb_n_estimators': 8, 'xgb_max_depth': 4}. Best is trial 13 with value: 0.9834208419445905.\u001b[0m\n",
      "\u001b[32m[I 2023-12-05 14:26:46,642]\u001b[0m Trial 14 finished with value: 0.8768854207032868 and parameters: {'classifier': 'XGBoost', 'xgb_booster': 'gbtree', 'xgb_n_estimators': 6, 'xgb_max_depth': 3}. Best is trial 13 with value: 0.9834208419445905.\u001b[0m\n",
      "Precision is ill-defined and being set to 0.0 due to no predicted samples. Use `zero_division` parameter to control this behavior.\n",
      "\u001b[32m[I 2023-12-05 14:26:46,856]\u001b[0m Trial 15 finished with value: 0.7695460748401926 and parameters: {'classifier': 'XGBoost', 'xgb_booster': 'gbtree', 'xgb_n_estimators': 6, 'xgb_max_depth': 2}. Best is trial 13 with value: 0.9834208419445905.\u001b[0m\n",
      "\u001b[32m[I 2023-12-05 14:26:46,984]\u001b[0m Trial 16 finished with value: 0.9998681983919468 and parameters: {'classifier': 'XGBoost', 'xgb_booster': 'dart', 'xgb_n_estimators': 7, 'xgb_max_depth': 4}. Best is trial 16 with value: 0.9998681983919468.\u001b[0m\n",
      "\u001b[32m[I 2023-12-05 14:26:47,102]\u001b[0m Trial 17 finished with value: 1.0305734340971824 and parameters: {'classifier': 'XGBoost', 'xgb_booster': 'dart', 'xgb_n_estimators': 4, 'xgb_max_depth': 4}. Best is trial 17 with value: 1.0305734340971824.\u001b[0m\n",
      "Precision is ill-defined and being set to 0.0 due to no predicted samples. Use `zero_division` parameter to control this behavior.\n",
      "\u001b[32m[I 2023-12-05 14:26:47,214]\u001b[0m Trial 18 finished with value: 0.8002128183707132 and parameters: {'classifier': 'XGBoost', 'xgb_booster': 'dart', 'xgb_n_estimators': 3, 'xgb_max_depth': 4}. Best is trial 17 with value: 1.0305734340971824.\u001b[0m\n",
      "Precision is ill-defined and being set to 0.0 due to no predicted samples. Use `zero_division` parameter to control this behavior.\n",
      "Precision is ill-defined and being set to 0.0 due to no predicted samples. Use `zero_division` parameter to control this behavior.\n",
      "Precision is ill-defined and being set to 0.0 due to no predicted samples. Use `zero_division` parameter to control this behavior.\n",
      "Precision is ill-defined and being set to 0.0 due to no predicted samples. Use `zero_division` parameter to control this behavior.\n",
      "\u001b[32m[I 2023-12-05 14:26:47,301]\u001b[0m Trial 19 finished with value: 0.6868139201227853 and parameters: {'classifier': 'XGBoost', 'xgb_booster': 'dart', 'xgb_n_estimators': 2, 'xgb_max_depth': 2}. Best is trial 17 with value: 1.0305734340971824.\u001b[0m\n",
      "\u001b[32m[I 2023-12-05 14:26:47,407]\u001b[0m Trial 20 finished with value: 1.0305734340971824 and parameters: {'classifier': 'XGBoost', 'xgb_booster': 'dart', 'xgb_n_estimators': 4, 'xgb_max_depth': 4}. Best is trial 17 with value: 1.0305734340971824.\u001b[0m\n",
      "\u001b[32m[I 2023-12-05 14:26:47,508]\u001b[0m Trial 21 finished with value: 1.0305734340971824 and parameters: {'classifier': 'XGBoost', 'xgb_booster': 'dart', 'xgb_n_estimators': 4, 'xgb_max_depth': 4}. Best is trial 17 with value: 1.0305734340971824.\u001b[0m\n",
      "\u001b[32m[I 2023-12-05 14:26:47,610]\u001b[0m Trial 22 finished with value: 1.0305734340971824 and parameters: {'classifier': 'XGBoost', 'xgb_booster': 'dart', 'xgb_n_estimators': 4, 'xgb_max_depth': 4}. Best is trial 17 with value: 1.0305734340971824.\u001b[0m\n",
      "\u001b[32m[I 2023-12-05 14:26:47,811]\u001b[0m Trial 23 finished with value: 0.8939592074829559 and parameters: {'classifier': 'XGBoost', 'xgb_booster': 'dart', 'xgb_n_estimators': 4, 'xgb_max_depth': 3}. Best is trial 17 with value: 1.0305734340971824.\u001b[0m\n",
      "\u001b[32m[I 2023-12-05 14:26:47,927]\u001b[0m Trial 24 finished with value: 1.0305734340971824 and parameters: {'classifier': 'XGBoost', 'xgb_booster': 'dart', 'xgb_n_estimators': 4, 'xgb_max_depth': 4}. Best is trial 17 with value: 1.0305734340971824.\u001b[0m\n",
      " 75%|███████▌  | 6/8 [00:16<00:05,  2.62s/it]\u001b[32m[I 2023-12-05 14:26:47,952]\u001b[0m A new study created in memory with name: no-name-0ac40299-89d7-4dab-aa07-4ac01435abe9\u001b[0m\n"
     ]
    }
   ],
   "source": [
    "from xgboost import XGBClassifier\n",
    "from sklearn.linear_model import LogisticRegression, Lasso\n",
    "\n",
    "from sklearn.metrics import confusion_matrix, ConfusionMatrixDisplay, classification_report\n",
    "from sklearn.svm import SVC\n",
    "\n",
    "monitor = {}\n",
    "\n",
    "for treatment in tqdm(good_splited_datasets):\n",
    "    X_train, X_test, y_train, y_test = good_splited_datasets[treatment]\n",
    "    model, best_trial = get_best_model_with_optuna(X_train, y_train, n_trials=25)\n",
    "    monitor[treatment] = train_and_eval_model(X_train, X_test, y_train, y_test, model, extra_for_report=best_trial.params)\n"
   ]
  },
  {
   "cell_type": "code",
   "execution_count": null,
   "metadata": {},
   "outputs": [],
   "source": [
    "generate_datasets_summerization(monitor)"
   ]
  },
  {
   "cell_type": "code",
   "execution_count": null,
   "metadata": {},
   "outputs": [],
   "source": [
    "list(generate_datasets_summerization(monitor)[\"extra\"])"
   ]
  },
  {
   "cell_type": "markdown",
   "metadata": {},
   "source": [
    "## train a stage model"
   ]
  },
  {
   "cell_type": "code",
   "execution_count": null,
   "metadata": {},
   "outputs": [],
   "source": [
    "mask = ~ dataset[\"Stage\"].isna()\n",
    "X_stage = dataset[mask][feats]\n",
    "y_stage = dataset[mask][\"Stage\"]\n",
    "y_is_stage_3 = (y_stage == 3).astype(int)\n",
    "y_0_is_1 = y_stage.apply(lambda x: x if x == 0 else x-1).astype(int)\n",
    "y_stage.value_counts()"
   ]
  },
  {
   "cell_type": "code",
   "execution_count": null,
   "metadata": {
    "scrolled": true
   },
   "outputs": [],
   "source": [
    "X_train, X_test, y_train, y_test = train_test_split(X_stage, y_is_stage_3, test_size=0.2, random_state=42)\n",
    "\n",
    "model, best_trial = get_best_model_with_optuna(X_train, y_train, n_trials=50)\n",
    "\n",
    "monitor_stage = {}\n",
    "monitor_stage[\"Stage\"] = train_and_eval_model(X_train, X_test, y_train, y_test, model)\n",
    "print(best_trial.params)"
   ]
  },
  {
   "cell_type": "code",
   "execution_count": null,
   "metadata": {},
   "outputs": [],
   "source": [
    "generate_datasets_summerization(monitor_stage)"
   ]
  },
  {
   "cell_type": "code",
   "execution_count": null,
   "metadata": {},
   "outputs": [],
   "source": [
    "monitor_stage[\"Stage\"].model"
   ]
  },
  {
   "cell_type": "code",
   "execution_count": null,
   "metadata": {},
   "outputs": [],
   "source": [
    "y_pred = monitor_stage[\"Stage\"].y_pred\n",
    "y_test = monitor_stage[\"Stage\"].y_test\n",
    "cm = confusion_matrix(y_test, y_pred, labels=model.classes_)\n",
    "disp = ConfusionMatrixDisplay(confusion_matrix=cm, display_labels=model.classes_)\n",
    "disp.plot()\n",
    "plt.show()"
   ]
  },
  {
   "cell_type": "code",
   "execution_count": null,
   "metadata": {},
   "outputs": [],
   "source": [
    "### train no search with sub sample"
   ]
  },
  {
   "cell_type": "code",
   "execution_count": null,
   "metadata": {},
   "outputs": [],
   "source": [
    "monitor_stage = {}\n",
    "\n",
    "model = XGBClassifier(n_estimators=10, max_depth=3, learning_rate=1)\n",
    "\n",
    "X_train, X_test, y_train, y_test = train_test_split(X_stage, y_is_stage_3, test_size=0.3, random_state=42)\n",
    "\n",
    "monitor_stage[\"Stage\"] = train_and_eval_model(X_train, X_test, y_train, y_test, model)\n",
    "\n",
    "generate_datasets_summerization(monitor_stage)"
   ]
  },
  {
   "cell_type": "code",
   "execution_count": null,
   "metadata": {},
   "outputs": [],
   "source": [
    "y_pred = monitor_stage[\"Stage\"].y_pred\n",
    "y_test = monitor_stage[\"Stage\"].y_test\n",
    "cm = confusion_matrix(y_test, y_pred, labels=model.classes_)\n",
    "disp = ConfusionMatrixDisplay(confusion_matrix=cm, display_labels=model.classes_)\n",
    "disp.plot()\n",
    "plt.show()"
   ]
  },
  {
   "cell_type": "code",
   "execution_count": null,
   "metadata": {},
   "outputs": [],
   "source": [
    "import shap\n",
    "\n",
    "pred = model.predict(X_stage, output_margin=True)\n",
    "\n",
    "explainer = shap.TreeExplainer(model)\n",
    "explanation = explainer(X_stage)\n",
    "\n",
    "shap_values = explanation.values\n",
    "# make sure the SHAP values add up to marginal predictions\n",
    "np.abs(shap_values.sum(axis=1) + explanation.base_values - pred).max()"
   ]
  },
  {
   "cell_type": "code",
   "execution_count": null,
   "metadata": {},
   "outputs": [],
   "source": [
    "shap.plots.beeswarm(explanation)"
   ]
  },
  {
   "cell_type": "code",
   "execution_count": null,
   "metadata": {},
   "outputs": [],
   "source": [
    "FP = y_test[(y_test==0).values & (y_pred==1).values] \n",
    "y_stage.loc[FP.index]"
   ]
  },
  {
   "cell_type": "markdown",
   "metadata": {},
   "source": [
    "### FINAL EVALUATAION"
   ]
  },
  {
   "cell_type": "code",
   "execution_count": null,
   "metadata": {},
   "outputs": [],
   "source": [
    "def bootstap_model_metric_distribution(model, X, y, n_samples, metric_name=\"f1-score\"):\n",
    "    baseline_f1_list = []\n",
    "    model_f1_list = []\n",
    "    for i in tqdm(range(n_samples)):\n",
    "        X_train, X_test, y_train, y_test = train_test_split(X_stage, y_is_stage_3, test_size=0.3, random_state=42+i)\n",
    "        exp_data = train_and_eval_model(X_train, X_test, y_train, y_test, model)\n",
    "        model_f1_list.append(exp_data.report[\"1\"][metric_name])\n",
    "        baseline_f1_list.append(exp_data.report[\"baseline\"][\"1\"][metric_name])\n",
    "    return model_f1_list, baseline_f1_list"
   ]
  },
  {
   "cell_type": "code",
   "execution_count": null,
   "metadata": {},
   "outputs": [],
   "source": [
    "def build_f1_df(model_f1_list, baseline_f1_list, contranst_name, metric_name):\n",
    "    f1_df = pd.DataFrame({\"model\":[\"NMF model\"] * len(model_f1_list) + [\"baseline - random\"] * len(baseline_f1_list),\n",
    "                      metric_name :model_f1_list + baseline_f1_list})\n",
    "    f1_df[\"contrast\"] = contranst_name\n",
    "    return f1_df"
   ]
  },
  {
   "cell_type": "code",
   "execution_count": null,
   "metadata": {},
   "outputs": [],
   "source": [
    "f1_dfs = []\n",
    "metric_name = \"accuracy\" # recall, precision, f1-score, accuracy\n",
    "for treatment, exp_data in monitor.items():\n",
    "    best_model = exp_data.model\n",
    "    X = pd.concat([exp_data.X_train, exp_data.X_test], axis=0)\n",
    "    y = pd.concat([exp_data.y_train, exp_data.y_test], axis=0)\n",
    "    \n",
    "    model_f1_list, baseline_f1_list = bootstap_model_metric_distribution(model, X, y, n_samples=20, metric_name=metric_name)\n",
    "    \n",
    "    f1_dfs.append(build_f1_df(model_f1_list, baseline_f1_list, treatment, metric_name))\n",
    "\n",
    "model_f1_list, baseline_f1_list = bootstap_model_metric_distribution(XGBClassifier(n_estimators=10, max_depth=3, learning_rate=1),\n",
    "                                                                 X_stage, y_is_stage_3, n_samples=20, metric_name=metric_name)\n",
    "f1_dfs.append(build_f1_df(model_f1_list, baseline_f1_list, \"Stage\", metric_name))\n",
    "f1_df = pd.concat(f1_dfs, axis=0)"
   ]
  },
  {
   "cell_type": "code",
   "execution_count": null,
   "metadata": {},
   "outputs": [],
   "source": [
    "import plotly.express as px\n",
    "fig = px.box(f1_df, color=\"model\", x=\"contrast\" ,y=metric_name,points=\"all\",  width=800, height=400) #X for diffrent datasets\n",
    "fig.update(layout_yaxis_range = [0,1])\n",
    "fig.show()"
   ]
  },
  {
   "cell_type": "markdown",
   "metadata": {},
   "source": [
    "### train STAGES WHITH 0 AND 1 Combibed"
   ]
  },
  {
   "cell_type": "code",
   "execution_count": null,
   "metadata": {},
   "outputs": [],
   "source": [
    "# monitor_stage = {}\n",
    "\n",
    "# model = XGBClassifier(n_estimators=10, max_depth=3, learning_rate=1)\n",
    "\n",
    "# X_train, X_test, y_train, y_test = train_test_split(X_stage, y_0_is_1, test_size=0.3, random_state=42)\n",
    "# monitor_stage[\"Stage\"] = train_and_eval_model(X_train, X_test, y_train, y_test, model)\n",
    "\n",
    "# monitor_stage[\"Stage\"].report"
   ]
  },
  {
   "cell_type": "code",
   "execution_count": null,
   "metadata": {},
   "outputs": [],
   "source": [
    "\n",
    "# y_pred = monitor_stage[\"Stage\"].y_pred\n",
    "# y_test = monitor_stage[\"Stage\"].y_test\n",
    "# cm = confusion_matrix(y_test, y_pred, labels=model.classes_)\n",
    "# disp = ConfusionMatrixDisplay(confusion_matrix=cm, display_labels=model.classes_)\n",
    "# disp.plot()\n",
    "# plt.show()"
   ]
  },
  {
   "cell_type": "code",
   "execution_count": null,
   "metadata": {},
   "outputs": [],
   "source": []
  }
 ],
 "metadata": {
  "kernelspec": {
   "display_name": "Python 3",
   "language": "python",
   "name": "python3"
  },
  "language_info": {
   "codemirror_mode": {
    "name": "ipython",
    "version": 3
   },
   "file_extension": ".py",
   "mimetype": "text/x-python",
   "name": "python",
   "nbconvert_exporter": "python",
   "pygments_lexer": "ipython3",
   "version": "3.9.5"
  }
 },
 "nbformat": 4,
 "nbformat_minor": 4
}
